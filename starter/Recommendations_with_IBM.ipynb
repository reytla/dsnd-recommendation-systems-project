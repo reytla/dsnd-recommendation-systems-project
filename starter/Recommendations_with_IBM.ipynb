{
 "cells": [
  {
   "cell_type": "markdown",
   "metadata": {},
   "source": [
    "# Recommendation System Project: IBM Community\n",
    "\n",
    "Welcome to my project on building a recommendation system using real-world data from the IBM Watson Studio platform. In this notebook, I will explore user interactions, analyze the dataset, and implement several recommendation algorithms to suggest relevant articles to users.\n",
    "\n",
    "The goal of this project is to apply data science and machine learning techniques to create effective recommendation strategies, evaluate their performance, and gain insights into user preferences within the IBM Community.\n",
    "\n",
    "This notebook is organized to guide you through data exploration, model development, and evaluation. All code and results are documented for clarity and reproducibility.\n",
    "\n",
    "Let's dive in and build a robust recommendation system!\n",
    "\n",
    "## Table of Contents\n",
    "\n",
    "I. [Exploratory Data Analysis](#Exploratory-Data-Analysis)<br>\n",
    "II. [Rank Based Recommendations](#Rank)<br>\n",
    "III. [User-User Based Collaborative Filtering](#User-User)<br>\n",
    "IV. [Content Based Recommendations](#Content-Recs)<br>\n",
    "V. [Matrix Factorization](#Matrix-Fact)<br>\n",
    "VI. [Extras & Concluding](#conclusions)"
   ]
  },
  {
   "cell_type": "markdown",
   "metadata": {},
   "source": [
    "Importing IBM Watson user-interaction data."
   ]
  },
  {
   "cell_type": "code",
   "execution_count": 1,
   "metadata": {},
   "outputs": [],
   "source": [
    "# Avoiding memory leak issues\n",
    "# import os\n",
    "# os.environ[\"OMP_NUM_THREADS\"] = \"3\""
   ]
  },
  {
   "cell_type": "code",
   "execution_count": 2,
   "metadata": {},
   "outputs": [
    {
     "data": {
      "text/html": [
       "<div>\n",
       "<style scoped>\n",
       "    .dataframe tbody tr th:only-of-type {\n",
       "        vertical-align: middle;\n",
       "    }\n",
       "\n",
       "    .dataframe tbody tr th {\n",
       "        vertical-align: top;\n",
       "    }\n",
       "\n",
       "    .dataframe thead th {\n",
       "        text-align: right;\n",
       "    }\n",
       "</style>\n",
       "<table border=\"1\" class=\"dataframe\">\n",
       "  <thead>\n",
       "    <tr style=\"text-align: right;\">\n",
       "      <th></th>\n",
       "      <th>Unnamed: 0</th>\n",
       "      <th>article_id</th>\n",
       "      <th>title</th>\n",
       "      <th>email</th>\n",
       "    </tr>\n",
       "  </thead>\n",
       "  <tbody>\n",
       "    <tr>\n",
       "      <th>0</th>\n",
       "      <td>0</td>\n",
       "      <td>1430</td>\n",
       "      <td>using pixiedust for fast, flexible, and easier...</td>\n",
       "      <td>ef5f11f77ba020cd36e1105a00ab868bbdbf7fe7</td>\n",
       "    </tr>\n",
       "    <tr>\n",
       "      <th>1</th>\n",
       "      <td>1</td>\n",
       "      <td>1314</td>\n",
       "      <td>healthcare python streaming application demo</td>\n",
       "      <td>083cbdfa93c8444beaa4c5f5e0f5f9198e4f9e0b</td>\n",
       "    </tr>\n",
       "    <tr>\n",
       "      <th>2</th>\n",
       "      <td>2</td>\n",
       "      <td>1429</td>\n",
       "      <td>use deep learning for image classification</td>\n",
       "      <td>b96a4f2e92d8572034b1e9b28f9ac673765cd074</td>\n",
       "    </tr>\n",
       "    <tr>\n",
       "      <th>3</th>\n",
       "      <td>3</td>\n",
       "      <td>1338</td>\n",
       "      <td>ml optimization using cognitive assistant</td>\n",
       "      <td>06485706b34a5c9bf2a0ecdac41daf7e7654ceb7</td>\n",
       "    </tr>\n",
       "    <tr>\n",
       "      <th>4</th>\n",
       "      <td>4</td>\n",
       "      <td>1276</td>\n",
       "      <td>deploy your python model as a restful api</td>\n",
       "      <td>f01220c46fc92c6e6b161b1849de11faacd7ccb2</td>\n",
       "    </tr>\n",
       "  </tbody>\n",
       "</table>\n",
       "</div>"
      ],
      "text/plain": [
       "   Unnamed: 0  article_id                                              title  \\\n",
       "0           0        1430  using pixiedust for fast, flexible, and easier...   \n",
       "1           1        1314       healthcare python streaming application demo   \n",
       "2           2        1429         use deep learning for image classification   \n",
       "3           3        1338          ml optimization using cognitive assistant   \n",
       "4           4        1276          deploy your python model as a restful api   \n",
       "\n",
       "                                      email  \n",
       "0  ef5f11f77ba020cd36e1105a00ab868bbdbf7fe7  \n",
       "1  083cbdfa93c8444beaa4c5f5e0f5f9198e4f9e0b  \n",
       "2  b96a4f2e92d8572034b1e9b28f9ac673765cd074  \n",
       "3  06485706b34a5c9bf2a0ecdac41daf7e7654ceb7  \n",
       "4  f01220c46fc92c6e6b161b1849de11faacd7ccb2  "
      ]
     },
     "execution_count": 2,
     "metadata": {},
     "output_type": "execute_result"
    }
   ],
   "source": [
    "import pandas as pd\n",
    "import numpy as np\n",
    "import matplotlib.pyplot as plt\n",
    "import project_tests as t\n",
    "\n",
    "\n",
    "df = pd.read_csv(\n",
    "    'data/user-item-interactions.csv',\n",
    "    dtype={'article_id': int, 'title': str, 'email': str}\n",
    ")\n",
    "# Show df to get an idea of the data\n",
    "df.head()"
   ]
  },
  {
   "cell_type": "markdown",
   "metadata": {},
   "source": [
    "### <a class=\"anchor\" id=\"Exploratory-Data-Analysis\">Part I : Exploratory Data Analysis</a>\n",
    "\n",
    "The dictionary and cells below provide some insight into the descriptive statistics of the data.\n",
    "\n",
    "`1.` Are there any missing values? If so, provide a count of missing values. If there are missing values in `email`, assign it the same id value `\"unknown_user\"`."
   ]
  },
  {
   "cell_type": "code",
   "execution_count": 3,
   "metadata": {},
   "outputs": [
    {
     "name": "stdout",
     "output_type": "stream",
     "text": [
      "<class 'pandas.core.frame.DataFrame'>\n",
      "RangeIndex: 45993 entries, 0 to 45992\n",
      "Data columns (total 4 columns):\n",
      " #   Column      Non-Null Count  Dtype \n",
      "---  ------      --------------  ----- \n",
      " 0   Unnamed: 0  45993 non-null  int64 \n",
      " 1   article_id  45993 non-null  int64 \n",
      " 2   title       45993 non-null  object\n",
      " 3   email       45976 non-null  object\n",
      "dtypes: int64(2), object(2)\n",
      "memory usage: 1.4+ MB\n"
     ]
    }
   ],
   "source": [
    "# Some interactions do not have a user associated with it, assume the same user.\n",
    "df.info()"
   ]
  },
  {
   "cell_type": "code",
   "execution_count": 4,
   "metadata": {},
   "outputs": [
    {
     "data": {
      "text/plain": [
       "Unnamed: 0     0\n",
       "article_id     0\n",
       "title          0\n",
       "email         17\n",
       "dtype: int64"
      ]
     },
     "execution_count": 4,
     "metadata": {},
     "output_type": "execute_result"
    }
   ],
   "source": [
    "# Give the count of missing values in each column\n",
    "df.isnull().sum()"
   ]
  },
  {
   "cell_type": "code",
   "execution_count": 5,
   "metadata": {},
   "outputs": [
    {
     "name": "stdout",
     "output_type": "stream",
     "text": [
      "Number of Null email values is:  17\n"
     ]
    }
   ],
   "source": [
    "# Get the number of rows with a null email value\n",
    "null_email_count = df['email'].isnull().sum()\n",
    "print(f\"Number of Null email values is: \", null_email_count)"
   ]
  },
  {
   "cell_type": "code",
   "execution_count": 6,
   "metadata": {},
   "outputs": [
    {
     "data": {
      "text/html": [
       "<div>\n",
       "<style scoped>\n",
       "    .dataframe tbody tr th:only-of-type {\n",
       "        vertical-align: middle;\n",
       "    }\n",
       "\n",
       "    .dataframe tbody tr th {\n",
       "        vertical-align: top;\n",
       "    }\n",
       "\n",
       "    .dataframe thead th {\n",
       "        text-align: right;\n",
       "    }\n",
       "</style>\n",
       "<table border=\"1\" class=\"dataframe\">\n",
       "  <thead>\n",
       "    <tr style=\"text-align: right;\">\n",
       "      <th></th>\n",
       "      <th>Unnamed: 0</th>\n",
       "      <th>article_id</th>\n",
       "      <th>title</th>\n",
       "      <th>email</th>\n",
       "    </tr>\n",
       "  </thead>\n",
       "  <tbody>\n",
       "    <tr>\n",
       "      <th>25131</th>\n",
       "      <td>25146</td>\n",
       "      <td>1016</td>\n",
       "      <td>why you should master r (even if it might even...</td>\n",
       "      <td>NaN</td>\n",
       "    </tr>\n",
       "    <tr>\n",
       "      <th>29758</th>\n",
       "      <td>30157</td>\n",
       "      <td>1393</td>\n",
       "      <td>the nurse assignment problem</td>\n",
       "      <td>NaN</td>\n",
       "    </tr>\n",
       "    <tr>\n",
       "      <th>29759</th>\n",
       "      <td>30158</td>\n",
       "      <td>20</td>\n",
       "      <td>working interactively with rstudio and noteboo...</td>\n",
       "      <td>NaN</td>\n",
       "    </tr>\n",
       "    <tr>\n",
       "      <th>29760</th>\n",
       "      <td>30159</td>\n",
       "      <td>1174</td>\n",
       "      <td>breast cancer wisconsin (diagnostic) data set</td>\n",
       "      <td>NaN</td>\n",
       "    </tr>\n",
       "    <tr>\n",
       "      <th>29761</th>\n",
       "      <td>30160</td>\n",
       "      <td>62</td>\n",
       "      <td>data visualization: the importance of excludin...</td>\n",
       "      <td>NaN</td>\n",
       "    </tr>\n",
       "    <tr>\n",
       "      <th>35264</th>\n",
       "      <td>36016</td>\n",
       "      <td>224</td>\n",
       "      <td>using apply, sapply, lapply in r</td>\n",
       "      <td>NaN</td>\n",
       "    </tr>\n",
       "    <tr>\n",
       "      <th>35276</th>\n",
       "      <td>36029</td>\n",
       "      <td>961</td>\n",
       "      <td>beyond parallelize and collect</td>\n",
       "      <td>NaN</td>\n",
       "    </tr>\n",
       "    <tr>\n",
       "      <th>35277</th>\n",
       "      <td>36030</td>\n",
       "      <td>268</td>\n",
       "      <td>sector correlations shiny app</td>\n",
       "      <td>NaN</td>\n",
       "    </tr>\n",
       "    <tr>\n",
       "      <th>35278</th>\n",
       "      <td>36031</td>\n",
       "      <td>268</td>\n",
       "      <td>sector correlations shiny app</td>\n",
       "      <td>NaN</td>\n",
       "    </tr>\n",
       "    <tr>\n",
       "      <th>35279</th>\n",
       "      <td>36032</td>\n",
       "      <td>268</td>\n",
       "      <td>sector correlations shiny app</td>\n",
       "      <td>NaN</td>\n",
       "    </tr>\n",
       "    <tr>\n",
       "      <th>35280</th>\n",
       "      <td>36033</td>\n",
       "      <td>268</td>\n",
       "      <td>sector correlations shiny app</td>\n",
       "      <td>NaN</td>\n",
       "    </tr>\n",
       "    <tr>\n",
       "      <th>35281</th>\n",
       "      <td>36034</td>\n",
       "      <td>415</td>\n",
       "      <td>using machine learning to predict value of hom...</td>\n",
       "      <td>NaN</td>\n",
       "    </tr>\n",
       "    <tr>\n",
       "      <th>35282</th>\n",
       "      <td>36035</td>\n",
       "      <td>846</td>\n",
       "      <td>pearson correlation aggregation on sparksql</td>\n",
       "      <td>NaN</td>\n",
       "    </tr>\n",
       "    <tr>\n",
       "      <th>35283</th>\n",
       "      <td>36036</td>\n",
       "      <td>268</td>\n",
       "      <td>sector correlations shiny app</td>\n",
       "      <td>NaN</td>\n",
       "    </tr>\n",
       "    <tr>\n",
       "      <th>35284</th>\n",
       "      <td>36037</td>\n",
       "      <td>162</td>\n",
       "      <td>an introduction to stock market data analysis ...</td>\n",
       "      <td>NaN</td>\n",
       "    </tr>\n",
       "    <tr>\n",
       "      <th>42749</th>\n",
       "      <td>44112</td>\n",
       "      <td>647</td>\n",
       "      <td>getting started with apache mahout</td>\n",
       "      <td>NaN</td>\n",
       "    </tr>\n",
       "    <tr>\n",
       "      <th>42750</th>\n",
       "      <td>44113</td>\n",
       "      <td>965</td>\n",
       "      <td>data visualization playbook: revisiting the ba...</td>\n",
       "      <td>NaN</td>\n",
       "    </tr>\n",
       "  </tbody>\n",
       "</table>\n",
       "</div>"
      ],
      "text/plain": [
       "       Unnamed: 0  article_id  \\\n",
       "25131       25146        1016   \n",
       "29758       30157        1393   \n",
       "29759       30158          20   \n",
       "29760       30159        1174   \n",
       "29761       30160          62   \n",
       "35264       36016         224   \n",
       "35276       36029         961   \n",
       "35277       36030         268   \n",
       "35278       36031         268   \n",
       "35279       36032         268   \n",
       "35280       36033         268   \n",
       "35281       36034         415   \n",
       "35282       36035         846   \n",
       "35283       36036         268   \n",
       "35284       36037         162   \n",
       "42749       44112         647   \n",
       "42750       44113         965   \n",
       "\n",
       "                                                   title email  \n",
       "25131  why you should master r (even if it might even...   NaN  \n",
       "29758                       the nurse assignment problem   NaN  \n",
       "29759  working interactively with rstudio and noteboo...   NaN  \n",
       "29760      breast cancer wisconsin (diagnostic) data set   NaN  \n",
       "29761  data visualization: the importance of excludin...   NaN  \n",
       "35264                   using apply, sapply, lapply in r   NaN  \n",
       "35276                     beyond parallelize and collect   NaN  \n",
       "35277                      sector correlations shiny app   NaN  \n",
       "35278                      sector correlations shiny app   NaN  \n",
       "35279                      sector correlations shiny app   NaN  \n",
       "35280                      sector correlations shiny app   NaN  \n",
       "35281  using machine learning to predict value of hom...   NaN  \n",
       "35282        pearson correlation aggregation on sparksql   NaN  \n",
       "35283                      sector correlations shiny app   NaN  \n",
       "35284  an introduction to stock market data analysis ...   NaN  \n",
       "42749                 getting started with apache mahout   NaN  \n",
       "42750  data visualization playbook: revisiting the ba...   NaN  "
      ]
     },
     "execution_count": 6,
     "metadata": {},
     "output_type": "execute_result"
    }
   ],
   "source": [
    "# Display rows where email is missing\n",
    "df[df.email.isna()]"
   ]
  },
  {
   "cell_type": "code",
   "execution_count": 7,
   "metadata": {},
   "outputs": [],
   "source": [
    "# Fill email NaNs with \"unknown_user\"\n",
    "df['email'] = df['email'].fillna('unknown_user')"
   ]
  },
  {
   "cell_type": "code",
   "execution_count": 8,
   "metadata": {},
   "outputs": [
    {
     "name": "stdout",
     "output_type": "stream",
     "text": [
      "Number of NaN values in email column after filling: 0\n",
      "Number of 'unknown_user' values: 17\n"
     ]
    }
   ],
   "source": [
    "# Check if no more NaNs\n",
    "print(\n",
    "    f\"Number of NaN values in email column after filling: {df['email'].isna().sum()}\")\n",
    "print(\n",
    "    f\"Number of 'unknown_user' values: {(df['email'] == 'unknown_user').sum()}\")"
   ]
  },
  {
   "cell_type": "markdown",
   "metadata": {},
   "source": [
    "`2.` What is the distribution of how many articles a user interacts with in the dataset?  Provide a visual and descriptive statistics to assist with giving a look at the number of times each user interacts with an article."
   ]
  },
  {
   "cell_type": "code",
   "execution_count": 9,
   "metadata": {},
   "outputs": [
    {
     "name": "stdout",
     "output_type": "stream",
     "text": [
      "Number of unique email addresses: 5149\n"
     ]
    }
   ],
   "source": [
    "# Count number of unique email addresses\n",
    "unique_email_count = df['email'].nunique()\n",
    "print(f\"Number of unique email addresses: {unique_email_count}\")"
   ]
  },
  {
   "cell_type": "code",
   "execution_count": 10,
   "metadata": {},
   "outputs": [],
   "source": [
    "# What are the descriptive statistics of the number of articles a user interacts with?\n",
    "# Group by email and count number of articles interacted with\n",
    "user_article_counts = df.groupby('email')['article_id'].count()"
   ]
  },
  {
   "cell_type": "code",
   "execution_count": 11,
   "metadata": {},
   "outputs": [
    {
     "data": {
      "image/png": "[encoded data removed]",
      "text/plain": [
       "<Figure size 1000x600 with 1 Axes>"
      ]
     },
     "metadata": {},
     "output_type": "display_data"
    }
   ],
   "source": [
    "# Create a plot of the number of articles read by each user\n",
    "plt.figure(figsize=(10, 6))\n",
    "plt.hist(user_article_counts.values, bins=50, edgecolor='black', alpha=0.7)\n",
    "plt.xlabel('Number of Articles')\n",
    "plt.ylabel('Number of Users')\n",
    "plt.title('Distribution of Articles Read by Users')\n",
    "plt.grid(True, alpha=0.3)\n",
    "plt.show()"
   ]
  },
  {
   "cell_type": "code",
   "execution_count": 12,
   "metadata": {},
   "outputs": [
    {
     "name": "stdout",
     "output_type": "stream",
     "text": [
      "Descriptive Statistics for Number of Articles per User:\n",
      "count    5149.000000\n",
      "mean        8.932414\n",
      "std        16.801011\n",
      "min         1.000000\n",
      "25%         1.000000\n",
      "50%         3.000000\n",
      "75%         9.000000\n",
      "max       364.000000\n",
      "Name: article_id, dtype: float64\n",
      "\n",
      "Most active user read 364 articles\n",
      "Least active user read 1 articles\n",
      "Average number of articles per user: 8.93\n"
     ]
    }
   ],
   "source": [
    "# Display descriptive statistics for user article counts\n",
    "print(\"Descriptive Statistics for Number of Articles per User:\")\n",
    "print(user_article_counts.describe())\n",
    "print(f\"\\nMost active user read {user_article_counts.max()} articles\")\n",
    "print(f\"Least active user read {user_article_counts.min()} articles\")\n",
    "print(f\"Average number of articles per user: {user_article_counts.mean():.2f}\")"
   ]
  },
  {
   "cell_type": "markdown",
   "metadata": {},
   "source": [
    "- There are 5149 users in total.\n",
    "- On average, a user has interacted with approximately 9 articles, but the standard deviation is high (16.8) signifying a lot of variation.\n",
    "- The minimum is 1, so every user has had at least 1 interaction.\n",
    "- The median (50%) is 3, which means that half of users have interacted with 3 or fewer articles.\n",
    "- The 75th percentile is 9, so 75% of users have interacted with 9 or fewer articles.\n",
    "- The maximum is 364, signifying that some users are extremely active. "
   ]
  },
  {
   "cell_type": "code",
   "execution_count": 13,
   "metadata": {},
   "outputs": [
    {
     "data": {
      "image/png": "[encoded data removed]",
      "text/plain": [
       "<Figure size 1000x600 with 1 Axes>"
      ]
     },
     "metadata": {},
     "output_type": "display_data"
    }
   ],
   "source": [
    "# Create a plot of the number of times each article was read\n",
    "# Count how many users read each article\n",
    "article_read_counts = df['article_id'].value_counts()\n",
    "# article_read_counts = df.groupby('article_id')['email'].count()\n",
    "\n",
    "plt.figure(figsize=(10, 6))\n",
    "plt.hist(article_read_counts.values, bins=1000, edgecolor='black', alpha=0.7)\n",
    "plt.xlabel('Article Number')\n",
    "plt.ylabel('Number of Readers')\n",
    "plt.title('Distribution of Article Usage')\n",
    "plt.grid(True, alpha=0.3)\n",
    "plt.show()"
   ]
  },
  {
   "cell_type": "code",
   "execution_count": 14,
   "metadata": {},
   "outputs": [
    {
     "name": "stdout",
     "output_type": "stream",
     "text": [
      "Descriptive Statistics for Article Read Counts:\n",
      "count    714.000000\n",
      "mean      64.415966\n",
      "std      109.175923\n",
      "min        1.000000\n",
      "25%        8.000000\n",
      "50%       25.000000\n",
      "75%       69.000000\n",
      "max      937.000000\n",
      "Name: count, dtype: float64\n",
      "\n",
      "Most popular article was read by 937 users\n",
      "Least popular article was read by 1 users\n",
      "Average number of users per article: 64.42\n"
     ]
    }
   ],
   "source": [
    "# Display descriptive statistics for article read counts\n",
    "print(\"Descriptive Statistics for Article Read Counts:\")\n",
    "print(article_read_counts.describe())\n",
    "print(f\"\\nMost popular article was read by {article_read_counts.max()} users\")\n",
    "print(f\"Least popular article was read by {article_read_counts.min()} users\")\n",
    "print(f\"Average number of users per article: {article_read_counts.mean():.2f}\")\n",
    "# print(f\"Total number of unique articles: {len(article_read_counts)}\")"
   ]
  },
  {
   "cell_type": "code",
   "execution_count": 15,
   "metadata": {},
   "outputs": [
    {
     "name": "stdout",
     "output_type": "stream",
     "text": [
      "Median number of articles per user: 3.0\n",
      "Maximum number of articles read by any user: 364\n"
     ]
    }
   ],
   "source": [
    "# Fill in the median and maximum number of user_article interactions below\n",
    "\n",
    "# 50% of individuals interact with 3 number of articles or fewer.\n",
    "median_val = user_article_counts.median()\n",
    "# The maximum number of user-article interactions by any 1 user is 135.\n",
    "max_views_by_user = user_article_counts.max()\n",
    "\n",
    "print(f\"Median number of articles per user: {median_val}\")\n",
    "print(f\"Maximum number of articles read by any user: {max_views_by_user}\")"
   ]
  },
  {
   "cell_type": "markdown",
   "metadata": {},
   "source": [
    "`3.` Use the cells below to find:\n",
    "\n",
    "**a.** The number of unique articles that have an interaction with a user.  \n",
    "**b.** The number of unique articles in the dataset (whether they have any interactions or not).<br>\n",
    "**c.** The number of unique users in the dataset. (excluding null values) <br>\n",
    "**d.** The number of user-article interactions in the dataset."
   ]
  },
  {
   "cell_type": "code",
   "execution_count": 16,
   "metadata": {},
   "outputs": [
    {
     "name": "stdout",
     "output_type": "stream",
     "text": [
      "Number of unique articles with interactions: 714\n",
      "Total number of unique articles: 714\n",
      "Number of unique users: 5149\n",
      "Total user-article interactions: 45993\n"
     ]
    }
   ],
   "source": [
    "# The number of unique articles that have at least one interaction\n",
    "unique_articles = df['article_id'].nunique()\n",
    "# The number of unique articles on the IBM platform\n",
    "total_articles = df['article_id'].nunique()\n",
    "unique_users = df['email'].nunique()  # The number of unique users\n",
    "user_article_interactions = len(df)  # The number of user-article interactions\n",
    "\n",
    "print(f\"Number of unique articles with interactions: {unique_articles}\")\n",
    "print(f\"Total number of unique articles: {total_articles}\")\n",
    "print(f\"Number of unique users: {unique_users}\")\n",
    "print(f\"Total user-article interactions: {user_article_interactions}\")"
   ]
  },
  {
   "cell_type": "markdown",
   "metadata": {},
   "source": [
    "`4.` Use the cells below to find the most viewed **article_id**, as well as how often it was viewed.  After talking to the company leaders, the `email_mapper` function was deemed a reasonable way to map users to ids.  There were a small number of null values, and it was found that all of these null values likely belonged to a single user (which is how they are stored using the function below)."
   ]
  },
  {
   "cell_type": "code",
   "execution_count": 17,
   "metadata": {},
   "outputs": [
    {
     "name": "stdout",
     "output_type": "stream",
     "text": [
      "Most viewed article ID: 1429\n",
      "Number of times it was viewed: 937\n",
      "Article title: use deep learning for image classification\n"
     ]
    }
   ],
   "source": [
    "# The most viewed article in the dataset as a string with one value following the decimal\n",
    "most_viewed_article_id = (article_read_counts.index[0])\n",
    "# The most viewed article in the dataset was viewed how many times?\n",
    "max_views = article_read_counts.iloc[0]\n",
    "\n",
    "print(f\"Most viewed article ID: {most_viewed_article_id}\")\n",
    "print(f\"Number of times it was viewed: {max_views}\")\n",
    "print(\n",
    "    f\"Article title: {df[df['article_id'] == int(float(most_viewed_article_id))]['title'].iloc[0]}\")"
   ]
  },
  {
   "cell_type": "code",
   "execution_count": 18,
   "metadata": {},
   "outputs": [
    {
     "data": {
      "text/html": [
       "<div>\n",
       "<style scoped>\n",
       "    .dataframe tbody tr th:only-of-type {\n",
       "        vertical-align: middle;\n",
       "    }\n",
       "\n",
       "    .dataframe tbody tr th {\n",
       "        vertical-align: top;\n",
       "    }\n",
       "\n",
       "    .dataframe thead th {\n",
       "        text-align: right;\n",
       "    }\n",
       "</style>\n",
       "<table border=\"1\" class=\"dataframe\">\n",
       "  <thead>\n",
       "    <tr style=\"text-align: right;\">\n",
       "      <th></th>\n",
       "      <th>Unnamed: 0</th>\n",
       "      <th>article_id</th>\n",
       "      <th>title</th>\n",
       "      <th>user_id</th>\n",
       "    </tr>\n",
       "  </thead>\n",
       "  <tbody>\n",
       "    <tr>\n",
       "      <th>0</th>\n",
       "      <td>0</td>\n",
       "      <td>1430</td>\n",
       "      <td>using pixiedust for fast, flexible, and easier...</td>\n",
       "      <td>1</td>\n",
       "    </tr>\n",
       "    <tr>\n",
       "      <th>1</th>\n",
       "      <td>1</td>\n",
       "      <td>1314</td>\n",
       "      <td>healthcare python streaming application demo</td>\n",
       "      <td>2</td>\n",
       "    </tr>\n",
       "    <tr>\n",
       "      <th>2</th>\n",
       "      <td>2</td>\n",
       "      <td>1429</td>\n",
       "      <td>use deep learning for image classification</td>\n",
       "      <td>3</td>\n",
       "    </tr>\n",
       "    <tr>\n",
       "      <th>3</th>\n",
       "      <td>3</td>\n",
       "      <td>1338</td>\n",
       "      <td>ml optimization using cognitive assistant</td>\n",
       "      <td>4</td>\n",
       "    </tr>\n",
       "    <tr>\n",
       "      <th>4</th>\n",
       "      <td>4</td>\n",
       "      <td>1276</td>\n",
       "      <td>deploy your python model as a restful api</td>\n",
       "      <td>5</td>\n",
       "    </tr>\n",
       "  </tbody>\n",
       "</table>\n",
       "</div>"
      ],
      "text/plain": [
       "   Unnamed: 0  article_id                                              title  \\\n",
       "0           0        1430  using pixiedust for fast, flexible, and easier...   \n",
       "1           1        1314       healthcare python streaming application demo   \n",
       "2           2        1429         use deep learning for image classification   \n",
       "3           3        1338          ml optimization using cognitive assistant   \n",
       "4           4        1276          deploy your python model as a restful api   \n",
       "\n",
       "   user_id  \n",
       "0        1  \n",
       "1        2  \n",
       "2        3  \n",
       "3        4  \n",
       "4        5  "
      ]
     },
     "execution_count": 18,
     "metadata": {},
     "output_type": "execute_result"
    }
   ],
   "source": [
    "# Run this cell to map the user email to a user_id column and remove the email column\n",
    "\n",
    "def email_mapper(df=df):\n",
    "    coded_dict = {\n",
    "        email: num\n",
    "        for num, email in enumerate(df['email'].unique(), start=1)\n",
    "    }\n",
    "    return [coded_dict[val] for val in df['email']]\n",
    "\n",
    "\n",
    "df['user_id'] = email_mapper(df)\n",
    "del df['email']\n",
    "\n",
    "# show header\n",
    "df.head()"
   ]
  },
  {
   "cell_type": "code",
   "execution_count": 19,
   "metadata": {},
   "outputs": [
    {
     "name": "stdout",
     "output_type": "stream",
     "text": [
      "It looks like you have everything right here! Nice job!\n"
     ]
    }
   ],
   "source": [
    "# If you stored all your results in the variable names above,\n",
    "# you shouldn't need to change anything in this cell\n",
    "\n",
    "sol_1_dict = {\n",
    "    '`50% of individuals have _____ or fewer interactions.`': median_val,\n",
    "    '`The total number of user-article interactions in the dataset is ______.`': user_article_interactions,\n",
    "    '`The maximum number of user-article interactions by any 1 user is ______.`': max_views_by_user,\n",
    "    '`The most viewed article in the dataset was viewed _____ times.`': max_views,\n",
    "    '`The article_id of the most viewed article is ______.`': most_viewed_article_id,\n",
    "    '`The number of unique articles that have at least 1 rating ______.`': unique_articles,\n",
    "    '`The number of unique users in the dataset is ______`': unique_users,\n",
    "    '`The number of unique articles on the IBM platform`': total_articles\n",
    "}\n",
    "\n",
    "# Test your dictionary against the solution\n",
    "t.sol_1_test(sol_1_dict)"
   ]
  },
  {
   "cell_type": "markdown",
   "metadata": {},
   "source": [
    "### <a class=\"anchor\" id=\"Rank\">Part II: Rank-Based Recommendations</a>\n",
    "\n",
    "In this project, we don't actually have ratings for whether a user liked an article or not.  We only know that a user has interacted with an article. In these cases, the popularity of an article can really only be based on how often an article was interacted with.\n",
    "\n",
    "`1.` Fill in the function below to return the **n** top articles ordered with most interactions as the top. Test your function using the tests below."
   ]
  },
  {
   "cell_type": "code",
   "execution_count": 20,
   "metadata": {},
   "outputs": [],
   "source": [
    "def get_top_articles(n, df=df):\n",
    "    \"\"\"\n",
    "    INPUT:\n",
    "    n - (int) the number of top articles to return\n",
    "    df - (pandas dataframe) df as defined at the top of the notebook \n",
    "\n",
    "    OUTPUT:\n",
    "    top_articles - (list) A list of the top 'n' article titles \n",
    "\n",
    "    \"\"\"\n",
    "    # Group by title and count interactions, sort by count descending\n",
    "\n",
    "    top_articles = (df.groupby('title')\n",
    "                    .size()\n",
    "                    .sort_values(ascending=False)\n",
    "                    .head(n)\n",
    "                    .index\n",
    "                    .tolist())\n",
    "\n",
    "    return top_articles  # Return the top article titles from df\n",
    "\n",
    "\n",
    "def get_top_article_ids(n, df=df):\n",
    "    \"\"\"\n",
    "    INPUT:\n",
    "    n - (int) the number of top articles to return\n",
    "    df - (pandas dataframe) df as defined at the top of the notebook\n",
    "\n",
    "    OUTPUT:\n",
    "    top_article_ids - (list) A list of the top 'n' article ids\n",
    "    \"\"\"\n",
    "\n",
    "    # Get top article titles from the first function\n",
    "    top_titles = get_top_articles(n, df)\n",
    "\n",
    "    # Map titles back to article_id\n",
    "    # drop_duplicates() ensures you don’t get multiple IDs for the same title\n",
    "    top_article_ids = (df[df['title'].isin(top_titles)]\n",
    "                       .drop_duplicates(subset=['title'])\n",
    "                       .set_index('title')\n",
    "                       .loc[top_titles]['article_id']\n",
    "                       .tolist())\n",
    "\n",
    "    return top_article_ids"
   ]
  },
  {
   "cell_type": "code",
   "execution_count": 21,
   "metadata": {},
   "outputs": [
    {
     "name": "stdout",
     "output_type": "stream",
     "text": [
      "['use deep learning for image classification', 'insights from new york car accident reports', 'visualize car data with brunel', 'use xgboost, scikit-learn & ibm watson machine learning apis', 'predicting churn with the spss random tree algorithm', 'healthcare python streaming application demo', 'finding optimal locations of new store using decision optimization', 'apache spark lab, part 1: basic concepts', 'analyze energy consumption in buildings', 'gosales transactions for logistic regression model']\n",
      "[1429, 1330, 1431, 1427, 1364, 1314, 1293, 1170, 1162, 1304]\n",
      "[1429, 1330, 1431, 1427, 1364, 1314, 1293, 1170, 1162, 1304]\n"
     ]
    }
   ],
   "source": [
    "print(get_top_articles(10))\n",
    "print(get_top_article_ids(10))"
   ]
  },
  {
   "cell_type": "code",
   "execution_count": 22,
   "metadata": {},
   "outputs": [
    {
     "name": "stdout",
     "output_type": "stream",
     "text": [
      "Your top_5 looks like the solution list! Nice job.\n",
      "Your top_10 looks like the solution list! Nice job.\n",
      "Your top_20 looks like the solution list! Nice job.\n"
     ]
    }
   ],
   "source": [
    "# Test your function by returning the top 5, 10, and 20 articles\n",
    "top_5 = get_top_articles(5)\n",
    "top_10 = get_top_articles(10)\n",
    "top_20 = get_top_articles(20)\n",
    "\n",
    "# Test each of your three lists from above\n",
    "t.sol_2_test(get_top_articles)"
   ]
  },
  {
   "cell_type": "markdown",
   "metadata": {},
   "source": [
    "### <a class=\"anchor\" id=\"User-User\">Part III: User-User Based Collaborative Filtering</a>\n",
    "\n",
    "\n",
    "`1.` Use the function below to reformat the **df** dataframe to be shaped with users as the rows and articles as the columns.  \n",
    "\n",
    "* Each **user** should only appear in each **row** once.\n",
    "\n",
    "\n",
    "* Each **article** should only show up in one **column**.  \n",
    "\n",
    "\n",
    "* **If a user has interacted with an article, then place a 1 where the user-row meets for that article-column**.  It does not matter how many times a user has interacted with the article, all entries where a user has interacted with an article should be a 1.  \n",
    "\n",
    "\n",
    "* **If a user has not interacted with an item, then place a zero where the user-row meets for that article-column**. \n",
    "\n",
    "Use the tests to make sure the basic structure of your matrix matches what is expected by the solution."
   ]
  },
  {
   "cell_type": "code",
   "execution_count": 23,
   "metadata": {},
   "outputs": [],
   "source": [
    "# create the user-article matrix with 1's and 0's\n",
    "\n",
    "def create_user_item_matrix(df, fill_value=0):\n",
    "    \"\"\"\n",
    "    INPUT:\n",
    "    df - pandas dataframe with article_id, title, user_id columns\n",
    "\n",
    "    OUTPUT:\n",
    "    user_item - user item matrix \n",
    "\n",
    "    Description:\n",
    "    Return a matrix with user ids as rows and article ids on the columns with 1 values where a user interacted with \n",
    "    an article and a 0 otherwise\n",
    "    \"\"\"\n",
    "    # Drop duplicates so repeated interactions don't cause multiple counts\n",
    "    df = df.drop_duplicates(subset=['user_id', 'article_id'])\n",
    "\n",
    "    # Create the user-item matrix\n",
    "    user_item = (df.groupby(['user_id', 'article_id'])\n",
    "                 .size()\n",
    "                 .unstack(fill_value=fill_value))\n",
    "\n",
    "    # Convert counts to binary (1= interaction, 0 = no interaction)\n",
    "    user_item = user_item.map(lambda x: 1 if x > 0 else 0)\n",
    "\n",
    "    return user_item  # return the user_item matrix\n",
    "\n",
    "\n",
    "user_item = create_user_item_matrix(df)"
   ]
  },
  {
   "cell_type": "code",
   "execution_count": 24,
   "metadata": {},
   "outputs": [
    {
     "name": "stdout",
     "output_type": "stream",
     "text": [
      "You have passed our quick tests!  Please proceed!\n"
     ]
    }
   ],
   "source": [
    "# Tests: You should just need to run this cell.  Don't change the code.\n",
    "assert user_item.shape[0] == 5149, \"Oops!  The number of users in the user-article matrix doesn't look right.\"\n",
    "assert user_item.shape[1] == 714, \"Oops!  The number of articles in the user-article matrix doesn't look right.\"\n",
    "assert user_item.sum(axis=1)[\n",
    "    1] == 36, \"Oops!  The number of articles seen by user 1 doesn't look right.\"\n",
    "print(\"You have passed our quick tests!  Please proceed!\")"
   ]
  },
  {
   "cell_type": "markdown",
   "metadata": {},
   "source": [
    "`2.` Complete the function below which should take a user_id and provide an ordered list of the most similar users to that user (from most similar to least similar).  The returned result should not contain the provided user_id, as we know that each user is similar to him/herself. Because the results for each user here are binary, it (perhaps) makes sense to compute similarity as the dot product of two users. \n",
    "\n",
    "Use the tests to test your function."
   ]
  },
  {
   "cell_type": "code",
   "execution_count": 25,
   "metadata": {},
   "outputs": [],
   "source": [
    "# Lets use the cosine_similarity function from sklearn\n",
    "from sklearn.metrics.pairwise import cosine_similarity"
   ]
  },
  {
   "cell_type": "code",
   "execution_count": 26,
   "metadata": {},
   "outputs": [],
   "source": [
    "def find_similar_users(user_id, user_item=user_item, include_similarity=False):\n",
    "    \"\"\"\n",
    "    INPUT:\n",
    "    user_id - (int) a user_id\n",
    "    user_item - (pandas dataframe) matrix of users by articles: \n",
    "                1's when a user has interacted with an article, 0 otherwise\n",
    "    include_similarity - (bool) whether to include the similarity in the output\n",
    "\n",
    "    OUTPUT:\n",
    "    similar_users - (list) an ordered list where the closest users (largest similarity)\n",
    "                    are listed first. If include_similarity=True, returns a list of lists\n",
    "                    with [similar_user_id, similarity].\n",
    "    \"\"\"\n",
    "\n",
    "    # index of target user\n",
    "    target_idx = user_item.index.get_loc(user_id)\n",
    "\n",
    "    # cosine similarity matrix (users x users)\n",
    "    similarity_matrix = cosine_similarity(user_item.values)\n",
    "\n",
    "    # similarity row for target user\n",
    "    user_similarities = similarity_matrix[target_idx]\n",
    "\n",
    "    # pair [user_id, similarity]\n",
    "    sim_list = list(zip(user_item.index, user_similarities))\n",
    "\n",
    "    # remove self\n",
    "    sim_list = [x for x in sim_list if x[0] != user_id]\n",
    "\n",
    "    # sort descending by similarity\n",
    "    sim_list = sorted(sim_list, key=lambda x: x[1], reverse=True)\n",
    "\n",
    "    if include_similarity:\n",
    "        return sim_list  # list of [user_id, similarity]\n",
    "    else:\n",
    "        most_similar_users = [x[0] for x in sim_list]  # just user ids\n",
    "        return most_similar_users"
   ]
  },
  {
   "cell_type": "code",
   "execution_count": 27,
   "metadata": {},
   "outputs": [
    {
     "name": "stdout",
     "output_type": "stream",
     "text": [
      "The 10 most similar users to user 1 are: [3933, 46, 4201, 253, 824, 5034, 5041, 136, 2305, 395]\n",
      "The 5 most similar users to user 3933 are: [1, 46, 4201, 253, 824]\n",
      "The 5 most similar users to user 3933 are: [1, 46, 4201, 253, 824]\n",
      "The 3 most similar users to user 46 are: [4201, 790, 5077]\n",
      "The 3 most similar users to user 46 are: [4201, 790, 5077]\n"
     ]
    }
   ],
   "source": [
    "# Do a spot check of your function\n",
    "print(\"The 10 most similar users to user 1 are: {}\".format(\n",
    "    find_similar_users(1)[:10]))\n",
    "print(\"The 5 most similar users to user 3933 are: {}\".format(\n",
    "    find_similar_users(3933)[:5]))\n",
    "print(\"The 3 most similar users to user 46 are: {}\".format(\n",
    "    find_similar_users(46)[:3]))"
   ]
  },
  {
   "cell_type": "markdown",
   "metadata": {},
   "source": [
    "`3.` Now that you have a function that provides the most similar users to each user, you will want to use these users to find articles you can recommend.  Complete the functions below to return the articles you would recommend to each user. "
   ]
  },
  {
   "cell_type": "code",
   "execution_count": 28,
   "metadata": {},
   "outputs": [],
   "source": [
    "def get_article_names(article_ids, df=df):\n",
    "    \"\"\"\n",
    "    INPUT:\n",
    "    article_ids - (list) a list of article ids\n",
    "    df - (pandas dataframe) df as defined at the top of the notebook\n",
    "\n",
    "    OUTPUT:\n",
    "    article_names - (list) a list of article names associated with the list of article ids \n",
    "                    (this is identified by the title column in df)\n",
    "    \"\"\"\n",
    "    # Drop duplicates so one id maps to a single title\n",
    "    unique_articles = df[['article_id', 'title']].drop_duplicates()\n",
    "\n",
    "    # Filter for the requested article_ids\n",
    "    article_names = unique_articles[unique_articles['article_id'].isin(\n",
    "        article_ids)]['title'].tolist()\n",
    "\n",
    "    return article_names  # Return the article names associated with list of article ids\n",
    "\n",
    "\n",
    "def get_ranked_article_unique_counts(article_ids=None, user_item=user_item):\n",
    "    \"\"\"\n",
    "    INPUT:\n",
    "    article_ids - (list or None) list of article IDs to restrict to, or None for all articles\n",
    "    user_item - (pandas dataframe) matrix of users by articles: \n",
    "                1's when a user has interacted with an article, 0 otherwise \n",
    "\n",
    "    OUTPUT:\n",
    "    article_counts - (list) a list of lists [article_id, unique_user_count],\n",
    "                     sorted by the number of unique users in descending order\n",
    "    \"\"\"\n",
    "    # Sum across users for each article (columns)\n",
    "    article_user_counts = user_item.sum(axis=0)\n",
    "\n",
    "    # If restricting to specific article_ids\n",
    "    if article_ids is not None:\n",
    "        article_user_counts = article_user_counts.loc[article_ids]\n",
    "\n",
    "    # Sort by number of unique users (descending)\n",
    "    ranked_article_unique_counts = article_user_counts.sort_values(\n",
    "        ascending=False)\n",
    "\n",
    "    # Convert to list of lists\n",
    "    article_counts = [[int(aid), int(count)]\n",
    "                      for aid, count in ranked_article_unique_counts.items()]\n",
    "\n",
    "    return article_counts\n",
    "\n",
    "\n",
    "def get_user_articles(user_id, user_item=user_item):\n",
    "    \"\"\"\n",
    "    INPUT:\n",
    "    user_id - (int) a user id\n",
    "    user_item - (pandas dataframe) matrix of users by articles: \n",
    "                1's when a user has interacted with an article, 0 otherwise\n",
    "\n",
    "    OUTPUT:\n",
    "    article_ids - (list) a list of the article ids seen by the user\n",
    "    article_names - (list) a list of article names associated with the list of article ids \n",
    "                    (this is identified by the title column in df)\n",
    "\n",
    "    Description:\n",
    "    Provides a list of the article_ids and article titles that have been seen by a user\n",
    "    \"\"\"\n",
    "    # Locate user's row\n",
    "    user_row = user_item.loc[user_id]\n",
    "\n",
    "    # Get article_ids where the user has interacted (value = 1)\n",
    "    article_ids = user_row[user_row == 1].index.tolist()\n",
    "\n",
    "    # Get article names from helper function\n",
    "    article_names = get_article_names(article_ids, df)\n",
    "\n",
    "    return article_ids, article_names  # return the ids and names\n",
    "\n",
    "\n",
    "def user_user_recs(user_id, m=10):\n",
    "    \"\"\"\n",
    "    INPUT:\n",
    "    user_id - (int) a user id\n",
    "    m - (int) the number of recommendations you want for the user\n",
    "\n",
    "    OUTPUT:\n",
    "    recs - (list) a list of recommendations for the user\n",
    "\n",
    "    Description:\n",
    "    Loops through the users based on closeness to the input user_id\n",
    "    For each user - finds articles the user hasn't seen before and provides them as recs\n",
    "    Does this until m recommendations are found\n",
    "\n",
    "    Notes:\n",
    "    Users who are the same closeness are chosen arbitrarily as the 'next' user\n",
    "\n",
    "    For the user where the number of recommended articles starts below m \n",
    "    and ends exceeding m, the last items are chosen arbitrarily\n",
    "\n",
    "    \"\"\"\n",
    "    # Articles already seen by user\n",
    "    seen_article_ids, _ = get_user_articles(user_id, user_item)\n",
    "\n",
    "    # Get similar users in order\n",
    "    similar_users = find_similar_users(user_id, user_item)\n",
    "\n",
    "    recs = []  # list of recommended article ids\n",
    "\n",
    "    # Loop through similar users and add unseen articles\n",
    "    for sim_user in similar_users:\n",
    "        sim_user_article_ids, _ = get_user_articles(sim_user, user_item)\n",
    "        # Find articles not yet seen by the target user but seen by similar user\n",
    "        new_recs = [\n",
    "            art for art in sim_user_article_ids if art not in seen_article_ids and art not in recs]\n",
    "        recs.extend(new_recs)\n",
    "        if len(recs) >= m:\n",
    "            recs = recs[:m]  # Trim to m recommendations\n",
    "            break\n",
    "\n",
    "    return recs  # return your recommendations for this user_id"
   ]
  },
  {
   "cell_type": "code",
   "execution_count": 29,
   "metadata": {},
   "outputs": [
    {
     "data": {
      "text/plain": [
       "['leverage python, scikit, and text classification for behavioral profiling',\n",
       " 'challenges in deep learning',\n",
       " 'awesome deep learning papers',\n",
       " 'this week in data science (april 18, 2017)',\n",
       " 'improving the roi of big data and analytics through leveraging new sources of data',\n",
       " 'this week in data science (may 2, 2017)',\n",
       " 'using apply, sapply, lapply in r',\n",
       " 'how can data scientists collaborate to build better business',\n",
       " 'top 20 r machine learning and data science packages',\n",
       " 'do i need to learn r?']"
      ]
     },
     "execution_count": 29,
     "metadata": {},
     "output_type": "execute_result"
    }
   ],
   "source": [
    "# Check Results\n",
    "# Return 10 recommendations for user 1\n",
    "get_article_names(user_user_recs(1, 10))"
   ]
  },
  {
   "cell_type": "code",
   "execution_count": 30,
   "metadata": {},
   "outputs": [
    {
     "data": {
      "text/plain": [
       "[[1320, 123], [844, 78], [232, 62]]"
      ]
     },
     "execution_count": 30,
     "metadata": {},
     "output_type": "execute_result"
    }
   ],
   "source": [
    "get_ranked_article_unique_counts([1320, 232, 844])"
   ]
  },
  {
   "cell_type": "code",
   "execution_count": 31,
   "metadata": {},
   "outputs": [
    {
     "name": "stdout",
     "output_type": "stream",
     "text": [
      "If this is all you see, you passed all of our tests!  Nice job!\n"
     ]
    }
   ],
   "source": [
    "# Test your functions here - No need to change this code - just run this cell\n",
    "assert set(get_article_names([1024, 1176, 1305, 1314, 1422, 1427])) == set(['using deep learning to reconstruct high-resolution audio', 'build a python app on the streaming analytics service', 'gosales transactions for naive bayes model',\n",
    "                                                                            'healthcare python streaming application demo', 'use r dataframes & ibm watson natural language understanding', 'use xgboost, scikit-learn & ibm watson machine learning apis']), \"Oops! Your the get_article_names function doesn't work quite how we expect.\"\n",
    "assert set(get_article_names([1320, 232, 844])) == set(['housing (2015): united states demographic measures', 'self-service data preparation with ibm data refinery',\n",
    "                                                        'use the cloudant-spark connector in python notebook']), \"Oops! Your the get_article_names function doesn't work quite how we expect.\"\n",
    "assert set(get_user_articles(20)[0]) == set([1320, 232, 844])\n",
    "assert set(get_user_articles(20)[1]) == set(['housing (2015): united states demographic measures',\n",
    "                                             'self-service data preparation with ibm data refinery', 'use the cloudant-spark connector in python notebook'])\n",
    "assert set(get_user_articles(2)[0]) == set(\n",
    "    [1024, 1176, 1305, 1314, 1422, 1427])\n",
    "assert set(get_user_articles(2)[1]) == set(['using deep learning to reconstruct high-resolution audio', 'build a python app on the streaming analytics service', 'gosales transactions for naive bayes model',\n",
    "                                            'healthcare python streaming application demo', 'use r dataframes & ibm watson natural language understanding', 'use xgboost, scikit-learn & ibm watson machine learning apis'])\n",
    "assert get_ranked_article_unique_counts([1320, 232, 844])[0] == [\n",
    "    1320, 123], \"Oops! Your the get_ranked_article_unique_counts function doesn't work quite how we expect.\\nMake sure you are using the user_item matrix to create the article counts.\"\n",
    "print(\"If this is all you see, you passed all of our tests!  Nice job!\")"
   ]
  },
  {
   "cell_type": "markdown",
   "metadata": {},
   "source": [
    "`4.` Now we are going to improve the consistency of the **user_user_recs** function from above.  \n",
    "\n",
    "* Instead of arbitrarily choosing when we obtain users who are all the same closeness to a given user - choose the users that have the most total article interactions before choosing those with fewer article interactions.\n",
    "\n",
    "\n",
    "* Instead of arbitrarily choosing articles from the user where the number of recommended articles starts below m and ends exceeding m, choose articles with the articles with the most total interactions before choosing those with fewer total interactions. This ranking should be  what would be obtained from the **top_articles** function you wrote earlier."
   ]
  },
  {
   "cell_type": "code",
   "execution_count": 32,
   "metadata": {},
   "outputs": [],
   "source": [
    "def get_top_sorted_users(user_id, user_item=user_item):\n",
    "    \"\"\"\n",
    "    INPUT:\n",
    "    user_id - (int)\n",
    "    user_item - (pandas dataframe) matrix of users by articles: \n",
    "            1's when a user has interacted with an article, 0 otherwise\n",
    "\n",
    "\n",
    "    OUTPUT:\n",
    "    neighbors_df - (pandas dataframe) a dataframe with:\n",
    "                    neighbor_id - is a neighbor user_id\n",
    "                    similarity - measure of the similarity of each user to the provided user_id\n",
    "                    num_interactions - the number of articles viewed by the user\n",
    "\n",
    "    Other Details - sort the neighbors_df by the similarity and then by number of interactions where \n",
    "                    highest of each is higher in the dataframe, i.e. Descending order\n",
    "\n",
    "    \"\"\"\n",
    "    import pandas as pd\n",
    "\n",
    "    # Get similar users including similarity\n",
    "    sim_list = find_similar_users(user_id, user_item, include_similarity=True)\n",
    "\n",
    "    # Convert to dataframe\n",
    "    neighbors_df = pd.DataFrame(\n",
    "        sim_list, columns=['neighbor_id', 'similarity'])\n",
    "\n",
    "    # Calculate number of interactions for each neighbor\n",
    "    neighbors_df['num_interactions'] = neighbors_df['neighbor_id'].apply(\n",
    "        lambda x: user_item.loc[x].sum())\n",
    "\n",
    "    # Sort by similarity and then number of interactions (both descending)\n",
    "    neighbors_df = neighbors_df.sort_values(\n",
    "        by=['similarity', 'num_interactions'], ascending=False)\n",
    "\n",
    "    # Reset index for clean output\n",
    "    neighbors_df = neighbors_df.reset_index(drop=True)\n",
    "\n",
    "    return neighbors_df  # Return the dataframe specified in the doc_string\n",
    "\n",
    "\n",
    "def user_user_recs_part2(user_id, m=10):\n",
    "    \"\"\"\n",
    "    INPUT:\n",
    "    user_id - (int) a user id\n",
    "    m - (int) the number of recommendations you want for the user\n",
    "\n",
    "    OUTPUT:\n",
    "    recs - (list) a list of recommendations for the user by article id\n",
    "    rec_names - (list) a list of recommendations for the user by article title\n",
    "\n",
    "    Description:\n",
    "    Loops through the users based on closeness to the input user_id\n",
    "    For each user - finds articles the user hasn't seen before and provides them as recs\n",
    "    Does this until m recommendations are found\n",
    "\n",
    "    Notes:\n",
    "    * Choose the users that have the most total article interactions \n",
    "    before choosing those with fewer article interactions.\n",
    "\n",
    "    * Choose articles with the articles with the most total interactions \n",
    "    before choosing those with fewer total interactions. \n",
    "\n",
    "    \"\"\"\n",
    "    # Articles already seen by user\n",
    "    seen_article_ids, _ = get_user_articles(user_id, user_item)\n",
    "\n",
    "    # Neighbors sorted by similarity and total interactions\n",
    "    neighbors_df = get_top_sorted_users(user_id, user_item)\n",
    "\n",
    "    # Article popularity ranking (most interactions first)\n",
    "    article_popularity = get_ranked_article_unique_counts(None, user_item)\n",
    "    article_popularity_dict = {aid: count for aid, count in article_popularity}\n",
    "\n",
    "    recs = []\n",
    "    for _, row in neighbors_df.iterrows():\n",
    "        neighbor_id = row['neighbor_id']\n",
    "        # Find articles the neighbor has interacted with that the user hasn't seen\n",
    "        neighbor_article_ids, _ = get_user_articles(neighbor_id, user_item)\n",
    "        unseen_articles = [\n",
    "            aid for aid in neighbor_article_ids if aid not in seen_article_ids]\n",
    "        # Rank unseen articles by popularity\n",
    "        unseen_articles.sort(\n",
    "            key=lambda x: article_popularity_dict.get(x, 0), reverse=True)\n",
    "        # Add to recommendations\n",
    "        recs.extend(unseen_articles)\n",
    "        if len(recs) >= m:\n",
    "            break\n",
    "\n",
    "    # return your recommendations for this user_id\n",
    "    return recs, get_article_names(recs)"
   ]
  },
  {
   "cell_type": "code",
   "execution_count": 33,
   "metadata": {},
   "outputs": [
    {
     "name": "stdout",
     "output_type": "stream",
     "text": [
      "The top 10 recommendations for user 20 are the following article ids:\n",
      "[1185, 1162, 1165, 1293, 1185, 1165, 1293, 254, 1271, 1328, 1410, 40, 1402]\n",
      "\n",
      "The top 10 recommendations for user 20 are the following article names:\n",
      "['classify tumors with machine learning', 'analyze energy consumption in buildings', 'uci: sms spam collection', 'income (2015): united states demographic measures', 'analyze precipitation data', 'finding optimal locations of new store using decision optimization', 'uci: adult - predict income', 'customer demographics and sales', 'ensemble learning to improve machine learning results', 'apple, ibm add machine learning to partnership with watson-core ml coupling']\n"
     ]
    }
   ],
   "source": [
    "# Quick spot check - don't change this code - just use it to test your functions\n",
    "rec_ids, rec_names = user_user_recs_part2(20, 10)\n",
    "print(\"The top 10 recommendations for user 20 are the following article ids:\")\n",
    "print(rec_ids)\n",
    "print()\n",
    "print(\"The top 10 recommendations for user 20 are the following article names:\")\n",
    "print(rec_names)"
   ]
  },
  {
   "cell_type": "markdown",
   "metadata": {},
   "source": [
    "`5.` Use your functions from above to correctly fill in the solutions to the dictionary below.  Then test your dictionary against the solution.  Provide the code you need to answer each following the comments below."
   ]
  },
  {
   "cell_type": "code",
   "execution_count": 34,
   "metadata": {},
   "outputs": [
    {
     "name": "stdout",
     "output_type": "stream",
     "text": [
      "   neighbor_id  similarity  num_interactions\n",
      "0         3933    0.986013                35\n",
      "   neighbor_id  similarity  num_interactions\n",
      "0         5083    0.730297                 5\n",
      "1         1552    0.577350                 2\n",
      "2         1890    0.577350                 2\n",
      "3         1372    0.471405                 3\n",
      "4         2941    0.433013                 8\n",
      "5         3586    0.408248                 4\n",
      "6          331    0.408248                 1\n",
      "7          348    0.408248                 1\n",
      "8          378    0.408248                 1\n",
      "9          496    0.408248                 1\n",
      "   neighbor_id  similarity  num_interactions\n",
      "0         3870    0.986667                75\n",
      "1          203    0.388909                96\n",
      "2         4459    0.388909                96\n",
      "3         3782    0.387585               135\n",
      "4           40    0.384308                52\n",
      "5         4932    0.384308                52\n",
      "6           23    0.377647               135\n",
      "7          242    0.375823                59\n",
      "8         3910    0.372678                60\n",
      "9          383    0.367423                32\n"
     ]
    }
   ],
   "source": [
    "print(get_top_sorted_users(1, user_item=user_item).head(n=1))\n",
    "print(get_top_sorted_users(2, user_item=user_item).head(n=10))\n",
    "print(get_top_sorted_users(131, user_item=user_item).head(n=10))"
   ]
  },
  {
   "cell_type": "code",
   "execution_count": 35,
   "metadata": {},
   "outputs": [],
   "source": [
    "# Tests with a dictionary of results\n",
    "# Most similar user to user 1\n",
    "user1_most_sim = get_top_sorted_users(\n",
    "    1, user_item=user_item).iloc[0, 0]  # neighbor_id of first row\n",
    "\n",
    "# 6th most similar user to user 2\n",
    "user2_6th_sim = get_top_sorted_users(\n",
    "    2, user_item=user_item).iloc[5, 0]  # 6th row (zero-indexed)\n",
    "\n",
    "# 10th most similar user to user 131\n",
    "user131_10th_sim = get_top_sorted_users(\n",
    "    131, user_item=user_item).iloc[9, 0]  # 10th row (zero-indexed)"
   ]
  },
  {
   "cell_type": "code",
   "execution_count": 36,
   "metadata": {},
   "outputs": [
    {
     "name": "stdout",
     "output_type": "stream",
     "text": [
      "This all looks good!  Nice job!\n"
     ]
    }
   ],
   "source": [
    "# Dictionary Test Here\n",
    "sol_5_dict = {\n",
    "    'The user that is most similar to user 1.': user1_most_sim,\n",
    "    'The user that is the 6th most similar to user 2.': user2_6th_sim,\n",
    "    'The user that is the 10th most similar to user 131.': user131_10th_sim,\n",
    "}\n",
    "\n",
    "t.sol_5_test(sol_5_dict)"
   ]
  },
  {
   "cell_type": "markdown",
   "metadata": {},
   "source": [
    "`6.` If we were given a new user, which of the above functions would you be able to use to make recommendations?  Explain.  Can you think of a better way we might make recommendations?  Use the cell below to explain a better method for new users."
   ]
  },
  {
   "cell_type": "markdown",
   "metadata": {},
   "source": [
    "<b>Answer:</b>\n",
    "\n",
    "For a new user (with no prior interactions), one could use the function that ranks articles by overall popularity, the `get_top_articles()` function. This is a \"popularity-based\" recommendation and is a common baseline for new users (known as the cold start problem).\n",
    "\n",
    "However, a better way might be to use content-based recommendations, where one could suggest articles similar to those the user has viewed (if one has any info about their interests or profile), or to use demographic or contextual information if available. As the user interacts more, one can switch to collaborative filtering or personalized models for improved recommendations."
   ]
  },
  {
   "cell_type": "markdown",
   "metadata": {},
   "source": [
    "`7.` Using your existing functions, provide the top 10 recommended articles you would provide for the a new user below.  You can test your function against our thoughts to make sure we are all on the same page with how we might make a recommendation."
   ]
  },
  {
   "cell_type": "code",
   "execution_count": 37,
   "metadata": {},
   "outputs": [
    {
     "name": "stdout",
     "output_type": "stream",
     "text": [
      "Top 10 recommendations for a new user:\n",
      "Article IDs: [1429, 1330, 1431, 1427, 1364, 1314, 1293, 1170, 1162, 1304]\n",
      "\n",
      "Article Titles:\n",
      "1. healthcare python streaming application demo\n",
      "2. use deep learning for image classification\n",
      "3. apache spark lab, part 1: basic concepts\n",
      "4. predicting churn with the spss random tree algorithm\n",
      "5. analyze energy consumption in buildings\n",
      "6. visualize car data with brunel\n",
      "7. use xgboost, scikit-learn & ibm watson machine learning apis\n",
      "8. gosales transactions for logistic regression model\n",
      "9. insights from new york car accident reports\n",
      "10. finding optimal locations of new store using decision optimization\n"
     ]
    }
   ],
   "source": [
    "# What would your recommendations be for this new user 0?  As a new user, they have no observed articles.\n",
    "# Provide a list of the top 10 article ids you would give to\n",
    "# Use the rank-based function for new users\n",
    "new_user_recs = get_top_article_ids(10)\n",
    "\n",
    "print(\"Top 10 recommendations for a new user:\")\n",
    "print(\"Article IDs:\", new_user_recs)\n",
    "print(\"\\nArticle Titles:\")\n",
    "for i, title in enumerate(get_article_names(new_user_recs), 1):\n",
    "    print(f\"{i}. {title}\")"
   ]
  },
  {
   "cell_type": "code",
   "execution_count": 38,
   "metadata": {},
   "outputs": [
    {
     "name": "stdout",
     "output_type": "stream",
     "text": [
      "That's right!  Nice job!\n"
     ]
    }
   ],
   "source": [
    "assert set(new_user_recs) == {1314, 1429, 1293, 1427, 1162, 1364, 1304, 1170, 1431,\n",
    "                              1330}, \"Oops!  It makes sense that in this case we would want to recommend the most popular articles, because we don't know anything about these users.\"\n",
    "\n",
    "print(\"That's right!  Nice job!\")"
   ]
  },
  {
   "cell_type": "markdown",
   "metadata": {},
   "source": [
    "### <a class=\"anchor\" id=\"Content-Recs\">Part IV: Content Based Recommendations</a>\n",
    "\n",
    "Another method we might use to make recommendations is to recommend similar articles that are possibly related. One way we can find article relationships is by clustering text about those articles.  Let's consider content to be the article **title**, as it is the only text we have available. One point to highlight, there isn't one way to create a content based recommendation, especially considering that text information can be processed in many ways.  \n",
    "\n",
    "`1.` Use the function bodies below to create a content based recommender function `make_content_recs`. We'll use TF-IDF to create a matrix based off article titles, and use this matrix to create clusters of related articles. You can use this function to make recommendations of new articles."
   ]
  },
  {
   "cell_type": "code",
   "execution_count": 39,
   "metadata": {},
   "outputs": [
    {
     "data": {
      "text/html": [
       "<div>\n",
       "<style scoped>\n",
       "    .dataframe tbody tr th:only-of-type {\n",
       "        vertical-align: middle;\n",
       "    }\n",
       "\n",
       "    .dataframe tbody tr th {\n",
       "        vertical-align: top;\n",
       "    }\n",
       "\n",
       "    .dataframe thead th {\n",
       "        text-align: right;\n",
       "    }\n",
       "</style>\n",
       "<table border=\"1\" class=\"dataframe\">\n",
       "  <thead>\n",
       "    <tr style=\"text-align: right;\">\n",
       "      <th></th>\n",
       "      <th>Unnamed: 0</th>\n",
       "      <th>article_id</th>\n",
       "      <th>title</th>\n",
       "      <th>user_id</th>\n",
       "    </tr>\n",
       "  </thead>\n",
       "  <tbody>\n",
       "    <tr>\n",
       "      <th>0</th>\n",
       "      <td>0</td>\n",
       "      <td>1430</td>\n",
       "      <td>using pixiedust for fast, flexible, and easier...</td>\n",
       "      <td>1</td>\n",
       "    </tr>\n",
       "    <tr>\n",
       "      <th>1</th>\n",
       "      <td>1</td>\n",
       "      <td>1314</td>\n",
       "      <td>healthcare python streaming application demo</td>\n",
       "      <td>2</td>\n",
       "    </tr>\n",
       "    <tr>\n",
       "      <th>2</th>\n",
       "      <td>2</td>\n",
       "      <td>1429</td>\n",
       "      <td>use deep learning for image classification</td>\n",
       "      <td>3</td>\n",
       "    </tr>\n",
       "    <tr>\n",
       "      <th>3</th>\n",
       "      <td>3</td>\n",
       "      <td>1338</td>\n",
       "      <td>ml optimization using cognitive assistant</td>\n",
       "      <td>4</td>\n",
       "    </tr>\n",
       "    <tr>\n",
       "      <th>4</th>\n",
       "      <td>4</td>\n",
       "      <td>1276</td>\n",
       "      <td>deploy your python model as a restful api</td>\n",
       "      <td>5</td>\n",
       "    </tr>\n",
       "  </tbody>\n",
       "</table>\n",
       "</div>"
      ],
      "text/plain": [
       "   Unnamed: 0  article_id                                              title  \\\n",
       "0           0        1430  using pixiedust for fast, flexible, and easier...   \n",
       "1           1        1314       healthcare python streaming application demo   \n",
       "2           2        1429         use deep learning for image classification   \n",
       "3           3        1338          ml optimization using cognitive assistant   \n",
       "4           4        1276          deploy your python model as a restful api   \n",
       "\n",
       "   user_id  \n",
       "0        1  \n",
       "1        2  \n",
       "2        3  \n",
       "3        4  \n",
       "4        5  "
      ]
     },
     "execution_count": 39,
     "metadata": {},
     "output_type": "execute_result"
    }
   ],
   "source": [
    "df.head()"
   ]
  },
  {
   "cell_type": "code",
   "execution_count": 40,
   "metadata": {},
   "outputs": [],
   "source": [
    "from sklearn.cluster import KMeans\n",
    "from sklearn.feature_extraction.text import TfidfVectorizer\n",
    "from sklearn.pipeline import make_pipeline\n",
    "from sklearn.preprocessing import Normalizer\n",
    "from sklearn.decomposition import TruncatedSVD"
   ]
  },
  {
   "cell_type": "code",
   "execution_count": 41,
   "metadata": {},
   "outputs": [
    {
     "name": "stdout",
     "output_type": "stream",
     "text": [
      "   article_id                                              title\n",
      "0        1430  using pixiedust for fast, flexible, and easier...\n",
      "1        1314       healthcare python streaming application demo\n",
      "2        1429         use deep learning for image classification\n",
      "3        1338          ml optimization using cognitive assistant\n",
      "4        1276          deploy your python model as a restful api\n"
     ]
    }
   ],
   "source": [
    "# unique articles\n",
    "df_unique_articles = df[['article_id', 'title']\n",
    "                        ].drop_duplicates().reset_index(drop=True)\n",
    "print(df_unique_articles.head())"
   ]
  },
  {
   "cell_type": "code",
   "execution_count": 42,
   "metadata": {},
   "outputs": [
    {
     "name": "stdout",
     "output_type": "stream",
     "text": [
      "Running TF-IDF\n",
      "n_samples: 714, n_features: 125\n",
      "Explained variance of the SVD step: 76.0%\n"
     ]
    }
   ],
   "source": [
    "# Create a vectorizer using TfidfVectorizer and fit it to the article titles\n",
    "max_features = 200\n",
    "max_df = 0.75\n",
    "min_df = 5\n",
    "\n",
    "vectorizer = TfidfVectorizer(\n",
    "    max_df=max_df,\n",
    "    min_df=min_df,\n",
    "    stop_words=\"english\",\n",
    "    max_features=max_features,\n",
    ")\n",
    "print(\"Running TF-IDF\")\n",
    "X_tfidf = vectorizer.fit_transform(df_unique_articles['title'])\n",
    "\n",
    "print(f\"n_samples: {X_tfidf.shape[0]}, n_features: {X_tfidf.shape[1]}\")\n",
    "\n",
    "lsa = make_pipeline(TruncatedSVD(n_components=50), Normalizer(copy=False))\n",
    "X_lsa = lsa.fit_transform(X_tfidf)\n",
    "explained_variance = lsa[0].explained_variance_ratio_.sum()\n",
    "\n",
    "print(f\"Explained variance of the SVD step: {explained_variance * 100:.1f}%\")"
   ]
  },
  {
   "cell_type": "code",
   "execution_count": 43,
   "metadata": {},
   "outputs": [
    {
     "data": {
      "text/plain": [
       "Text(0.5, 0, 'Number of clusters')"
      ]
     },
     "execution_count": 43,
     "metadata": {},
     "output_type": "execute_result"
    },
    {
     "data": {
      "image/png": "[encoded data removed]",
      "text/plain": [
       "<Figure size 640x480 with 1 Axes>"
      ]
     },
     "metadata": {},
     "output_type": "display_data"
    }
   ],
   "source": [
    "# Let's map the inertia for different number of clusters to find the optimal number of clusters\n",
    "# We'll plot it to see the elbow\n",
    "inertia = []\n",
    "clusters = 300\n",
    "step = 25\n",
    "max_iter = 50\n",
    "n_init = 5\n",
    "random_state = 42\n",
    "for k in range(1, clusters, step):\n",
    "    kmeans = KMeans(\n",
    "        n_clusters=k,\n",
    "        max_iter=max_iter,\n",
    "        n_init=n_init,\n",
    "        random_state=random_state,\n",
    "    ).fit(X_lsa)\n",
    "    # inertia is the sum of squared distances to the closest cluster center\n",
    "    inertia.append(kmeans.inertia_)\n",
    "plt.plot(range(1, clusters, step), inertia)\n",
    "plt.xlabel('Number of clusters')"
   ]
  },
  {
   "cell_type": "markdown",
   "metadata": {},
   "source": [
    "There appears to be an elbow about 50, so we'll use 50 clusters."
   ]
  },
  {
   "cell_type": "code",
   "execution_count": 44,
   "metadata": {},
   "outputs": [],
   "source": [
    "n_clusters = 50  # Number of clusters\n",
    "kmeans = KMeans(\n",
    "    n_clusters=n_clusters,\n",
    "    max_iter=max_iter,\n",
    "    n_init=n_init,\n",
    "    random_state=random_state,\n",
    "    # Your code here, same as parameters above\n",
    ").fit(X_lsa)"
   ]
  },
  {
   "cell_type": "code",
   "execution_count": 45,
   "metadata": {},
   "outputs": [],
   "source": [
    "# Get assigned labels\n",
    "labels = kmeans.labels_\n",
    "\n",
    "# Attach cluster labels to the original DataFrame\n",
    "df_unique_articles['cluster'] = labels"
   ]
  },
  {
   "cell_type": "code",
   "execution_count": 46,
   "metadata": {},
   "outputs": [],
   "source": [
    "# create a new column `title_cluster` and assign it the kmeans cluster labels\n",
    "# First we need to map the labels to df_unique_articles article ids and then apply those to df\n",
    "article_cluster_map = {\n",
    "    article_id: cluster\n",
    "    for article_id, cluster in zip(df_unique_articles['article_id'], df_unique_articles['cluster'])\n",
    "}  # Map article_id to cluster label\n",
    "df['title_cluster'] = df['article_id'].map(\n",
    "    article_cluster_map)  # apply map to create title clusters"
   ]
  },
  {
   "cell_type": "code",
   "execution_count": 47,
   "metadata": {},
   "outputs": [
    {
     "data": {
      "text/plain": [
       "array([[ 0, 12],\n",
       "       [ 1, 32],\n",
       "       [ 2,  7],\n",
       "       [ 3, 72],\n",
       "       [ 4, 37],\n",
       "       [ 5, 13],\n",
       "       [ 6, 17],\n",
       "       [ 7, 20],\n",
       "       [ 8, 20],\n",
       "       [ 9, 28],\n",
       "       [10,  9],\n",
       "       [11, 23],\n",
       "       [12, 20],\n",
       "       [13, 12],\n",
       "       [14, 24],\n",
       "       [15, 13],\n",
       "       [16,  7],\n",
       "       [17,  7],\n",
       "       [18, 16],\n",
       "       [19,  7],\n",
       "       [20, 11],\n",
       "       [21,  5],\n",
       "       [22, 10],\n",
       "       [23, 12],\n",
       "       [24, 11],\n",
       "       [25, 15],\n",
       "       [26, 42],\n",
       "       [27, 14],\n",
       "       [28,  8],\n",
       "       [29,  8],\n",
       "       [30,  5],\n",
       "       [31, 10],\n",
       "       [32,  8],\n",
       "       [33,  6],\n",
       "       [34,  5],\n",
       "       [35,  6],\n",
       "       [36,  9],\n",
       "       [37, 12],\n",
       "       [38, 12],\n",
       "       [39, 10],\n",
       "       [40, 10],\n",
       "       [41,  9],\n",
       "       [42, 12],\n",
       "       [43,  6],\n",
       "       [44,  7],\n",
       "       [45, 12],\n",
       "       [46, 11],\n",
       "       [47, 22],\n",
       "       [48,  3],\n",
       "       [49,  7]])"
      ]
     },
     "execution_count": 47,
     "metadata": {},
     "output_type": "execute_result"
    }
   ],
   "source": [
    "# Let's check the number of articles in each cluster\n",
    "np.array(np.unique(kmeans.labels_, return_counts=True)).T"
   ]
  },
  {
   "cell_type": "code",
   "execution_count": 48,
   "metadata": {},
   "outputs": [],
   "source": [
    "def get_similar_articles(article_id, df=df):\n",
    "    \"\"\"\n",
    "    INPUT:\n",
    "    article_id - (int) an article id \n",
    "    df - (pandas dataframe) df as defined at the top of the notebook \n",
    "\n",
    "    OUTPUT:\n",
    "    article_ids - (list) a list of article ids that are in the same title cluster\n",
    "\n",
    "    Description:\n",
    "    Returns a list of the article ids that are in the same title cluster\n",
    "    \"\"\"\n",
    "    # Find which title_cluster article_id belongs to\n",
    "    title_cluster = df.loc[df['article_id'] ==\n",
    "                           article_id, 'title_cluster'].iloc[0]\n",
    "    articles_in_cluster = df.loc[df['title_cluster']\n",
    "                                 == title_cluster, 'article_id'].tolist()\n",
    "\n",
    "    # remove the input article_id from the list\n",
    "    articles_in_cluster = [a for a in articles_in_cluster if a != article_id]\n",
    "    return articles_in_cluster"
   ]
  },
  {
   "cell_type": "code",
   "execution_count": 49,
   "metadata": {},
   "outputs": [],
   "source": [
    "def make_content_recs(article_id, n, df=df):\n",
    "    \"\"\"\n",
    "    INPUT:\n",
    "    article_id - (int) an article id\n",
    "    n - (int) the number of recommendations you want similar to the article id\n",
    "    df - (pandas dataframe) df as defined at the top of the notebook\n",
    "\n",
    "    OUTPUT:\n",
    "    n_ranked_similar_articles - (list) a list of article ids that are in the same title cluster ranked\n",
    "                                by popularity\n",
    "    n_ranked_article_names - (list) a list of article names associated with the list of article ids\n",
    "\n",
    "    Description:\n",
    "    Returns a list of the n most ranked similar articles to a given article_id based on the title\n",
    "    cluster in df. Rank similar articles using the function get_ranked_article_unique_counts.\n",
    "    \"\"\"\n",
    "    # Get articles in the same cluster\n",
    "    articles_in_cluster = get_similar_articles(article_id, df)\n",
    "\n",
    "    # If no similar articles found, return empty lists\n",
    "    if not articles_in_cluster:\n",
    "        return [], []\n",
    "\n",
    "    # Rank the similar articles by popularity (number of unique users who interacted with them)\n",
    "    ranked_articles = get_ranked_article_unique_counts(articles_in_cluster)\n",
    "\n",
    "    # Extract just the article IDs and take the top n\n",
    "    n_ranked_similar_articles = [article[0] for article in ranked_articles[:n]]\n",
    "\n",
    "    # Get the corresponding article names\n",
    "    n_ranked_article_names = get_article_names(n_ranked_similar_articles, df)\n",
    "\n",
    "    return n_ranked_similar_articles, n_ranked_article_names"
   ]
  },
  {
   "cell_type": "code",
   "execution_count": 50,
   "metadata": {},
   "outputs": [
    {
     "name": "stdout",
     "output_type": "stream",
     "text": [
      "[1025, 1025, 1025, 1025, 1025, 1025, 1025, 1025, 1025, 1025]\n",
      "['data tidying in data science experience']\n"
     ]
    }
   ],
   "source": [
    "# Test out your content recommendations given artice_id 25\n",
    "rec_article_ids, rec_article_titles = make_content_recs(25, 10)\n",
    "print(rec_article_ids)\n",
    "print(rec_article_titles)"
   ]
  },
  {
   "cell_type": "code",
   "execution_count": 51,
   "metadata": {},
   "outputs": [],
   "source": [
    "assert len({1025, 593, 349, 821, 464, 29, 1042, 693, 524, 352}.intersection(set(rec_article_ids))\n",
    "           ) > 0, \"Oops! Your the make_content_recs function doesn't work quite how we expect.\""
   ]
  },
  {
   "cell_type": "markdown",
   "metadata": {},
   "source": [
    "`2.` Now that you have put together your content-based recommendation system, use the cell below to write a summary explaining how your content based recommender works.  Do you see any possible improvements that could be made to your function? What other text data would be useful to help make better recommendations besides the article title?"
   ]
  },
  {
   "cell_type": "markdown",
   "metadata": {},
   "source": [
    "### <u>Answer: Content-Based Recommendation System Summary</u>\n",
    "\n",
    "#### How the Content-Based Recommender Works\n",
    "\n",
    "The system follows a straightforward pipeline:\n",
    "\n",
    "1. **TF-IDF on Titles**  \n",
    "   We apply TF-IDF vectorization to article titles to convert them into numerical features. This helps us pick up which words are relatively important in each title compared to the rest of the dataset.\n",
    "\n",
    "2. **Reducing Dimensions with SVD**  \n",
    "   Since TF-IDF gives us high-dimensional vectors, we use Truncated SVD to compress this into 50 components. This speeds things up and reduces noise while keeping most of the underlying structure.\n",
    "\n",
    "3. **Clustering with K-Means**  \n",
    "   We cluster the articles using K-Means (with k=50) on the reduced feature set. Articles that land in the same cluster are treated as being topically similar.\n",
    "\n",
    "4. **Generating Recommendations**  \n",
    "   The `make_content_recs()` function works as follows:  \n",
    "   - Identify the cluster of the given article  \n",
    "   - Retrieve all other articles in that same cluster  \n",
    "   - Rank them by the number of unique users who interacted with each one  \n",
    "   - Return the top-ranked results\n",
    "\n",
    "#### Ideas for Improvement\n",
    "\n",
    "1. **Stronger Text Features**  \n",
    "   Titles are often too short. Adding article descriptions, abstracts, or even full text would provide more signal. We could also improve text preprocessing (e.g., lemmatization, n-grams) or swap out TF-IDF for embeddings like Word2Vec, GloVe, or BERT.\n",
    "\n",
    "2. **Better Clustering**  \n",
    "   K-Means works, but we might get more interpretable groupings using hierarchical clustering or topic models like LDA or BERTopic. There’s also room to explore dynamic clustering that adapts based on what users engage with.\n",
    "\n",
    "3. **Move Toward a Hybrid Model**  \n",
    "   We can combine this content approach with collaborative filtering. For example, use content similarity to filter candidates and rank them using collaborative scores, or blend the two directly in a weighted model.\n",
    "\n",
    "4. **User-Level Personalization**  \n",
    "   Rather than just clustering articles, we can try learning what kinds of content a specific user prefers and tailor similarity measures accordingly. That includes accounting for recency, topic diversity, or even content complexity.\n",
    "\n",
    "#### Useful Text Data (If Available)\n",
    "\n",
    "1. **Article Metadata**  \n",
    "   Things like categories, tags, author info, publication date, and article length would help us understand the nature of each article beyond its title.\n",
    "\n",
    "2. **Full Content**  \n",
    "   Access to full text, summaries, or key bullet points would give much richer signals. Any embedded code or mentioned technologies could also be extracted and indexed.\n",
    "\n",
    "3. **User Contributions**  \n",
    "   Comments, ratings, user-added tags, and social sharing behavior would all offer useful context for gauging article relevance or quality.\n",
    "\n",
    "4. **Contextual Signals**  \n",
    "   Reading level, prerequisite knowledge, and domain classification (e.g., data science vs. web dev) would help match articles to users more appropriately.\n",
    "\n",
    "These additions would make it easier to build recommendations that go beyond surface similarity and reflect deeper content structure and user preferences.\n"
   ]
  },
  {
   "cell_type": "markdown",
   "metadata": {},
   "source": [
    "### <a class=\"anchor\" id=\"Matrix-Fact\">Part V: Matrix Factorization</a>\n",
    "\n",
    "In this part of the notebook, you will build use matrix factorization to make article recommendations to users.\n",
    "\n",
    "`1.` You should have already created a **user_item** matrix above in **question 1** of **Part III** above.  This first question here will just require that you run the cells to get things set up for the rest of **Part V** of the notebook. "
   ]
  },
  {
   "cell_type": "code",
   "execution_count": 52,
   "metadata": {},
   "outputs": [
    {
     "data": {
      "text/html": [
       "<div>\n",
       "<style scoped>\n",
       "    .dataframe tbody tr th:only-of-type {\n",
       "        vertical-align: middle;\n",
       "    }\n",
       "\n",
       "    .dataframe tbody tr th {\n",
       "        vertical-align: top;\n",
       "    }\n",
       "\n",
       "    .dataframe thead th {\n",
       "        text-align: right;\n",
       "    }\n",
       "</style>\n",
       "<table border=\"1\" class=\"dataframe\">\n",
       "  <thead>\n",
       "    <tr style=\"text-align: right;\">\n",
       "      <th>article_id</th>\n",
       "      <th>0</th>\n",
       "      <th>2</th>\n",
       "      <th>4</th>\n",
       "      <th>8</th>\n",
       "      <th>9</th>\n",
       "      <th>12</th>\n",
       "      <th>14</th>\n",
       "      <th>15</th>\n",
       "      <th>16</th>\n",
       "      <th>18</th>\n",
       "      <th>...</th>\n",
       "      <th>1434</th>\n",
       "      <th>1435</th>\n",
       "      <th>1436</th>\n",
       "      <th>1437</th>\n",
       "      <th>1439</th>\n",
       "      <th>1440</th>\n",
       "      <th>1441</th>\n",
       "      <th>1442</th>\n",
       "      <th>1443</th>\n",
       "      <th>1444</th>\n",
       "    </tr>\n",
       "    <tr>\n",
       "      <th>user_id</th>\n",
       "      <th></th>\n",
       "      <th></th>\n",
       "      <th></th>\n",
       "      <th></th>\n",
       "      <th></th>\n",
       "      <th></th>\n",
       "      <th></th>\n",
       "      <th></th>\n",
       "      <th></th>\n",
       "      <th></th>\n",
       "      <th></th>\n",
       "      <th></th>\n",
       "      <th></th>\n",
       "      <th></th>\n",
       "      <th></th>\n",
       "      <th></th>\n",
       "      <th></th>\n",
       "      <th></th>\n",
       "      <th></th>\n",
       "      <th></th>\n",
       "      <th></th>\n",
       "    </tr>\n",
       "  </thead>\n",
       "  <tbody>\n",
       "    <tr>\n",
       "      <th>1</th>\n",
       "      <td>0</td>\n",
       "      <td>0</td>\n",
       "      <td>0</td>\n",
       "      <td>0</td>\n",
       "      <td>0</td>\n",
       "      <td>0</td>\n",
       "      <td>0</td>\n",
       "      <td>0</td>\n",
       "      <td>0</td>\n",
       "      <td>0</td>\n",
       "      <td>...</td>\n",
       "      <td>0</td>\n",
       "      <td>0</td>\n",
       "      <td>1</td>\n",
       "      <td>0</td>\n",
       "      <td>1</td>\n",
       "      <td>0</td>\n",
       "      <td>0</td>\n",
       "      <td>0</td>\n",
       "      <td>0</td>\n",
       "      <td>0</td>\n",
       "    </tr>\n",
       "    <tr>\n",
       "      <th>2</th>\n",
       "      <td>0</td>\n",
       "      <td>0</td>\n",
       "      <td>0</td>\n",
       "      <td>0</td>\n",
       "      <td>0</td>\n",
       "      <td>0</td>\n",
       "      <td>0</td>\n",
       "      <td>0</td>\n",
       "      <td>0</td>\n",
       "      <td>0</td>\n",
       "      <td>...</td>\n",
       "      <td>0</td>\n",
       "      <td>0</td>\n",
       "      <td>0</td>\n",
       "      <td>0</td>\n",
       "      <td>0</td>\n",
       "      <td>0</td>\n",
       "      <td>0</td>\n",
       "      <td>0</td>\n",
       "      <td>0</td>\n",
       "      <td>0</td>\n",
       "    </tr>\n",
       "    <tr>\n",
       "      <th>3</th>\n",
       "      <td>0</td>\n",
       "      <td>0</td>\n",
       "      <td>0</td>\n",
       "      <td>0</td>\n",
       "      <td>0</td>\n",
       "      <td>1</td>\n",
       "      <td>0</td>\n",
       "      <td>0</td>\n",
       "      <td>0</td>\n",
       "      <td>0</td>\n",
       "      <td>...</td>\n",
       "      <td>0</td>\n",
       "      <td>0</td>\n",
       "      <td>1</td>\n",
       "      <td>0</td>\n",
       "      <td>0</td>\n",
       "      <td>0</td>\n",
       "      <td>0</td>\n",
       "      <td>0</td>\n",
       "      <td>0</td>\n",
       "      <td>0</td>\n",
       "    </tr>\n",
       "    <tr>\n",
       "      <th>4</th>\n",
       "      <td>0</td>\n",
       "      <td>0</td>\n",
       "      <td>0</td>\n",
       "      <td>0</td>\n",
       "      <td>0</td>\n",
       "      <td>0</td>\n",
       "      <td>0</td>\n",
       "      <td>0</td>\n",
       "      <td>0</td>\n",
       "      <td>0</td>\n",
       "      <td>...</td>\n",
       "      <td>0</td>\n",
       "      <td>0</td>\n",
       "      <td>0</td>\n",
       "      <td>0</td>\n",
       "      <td>0</td>\n",
       "      <td>0</td>\n",
       "      <td>0</td>\n",
       "      <td>0</td>\n",
       "      <td>0</td>\n",
       "      <td>0</td>\n",
       "    </tr>\n",
       "    <tr>\n",
       "      <th>5</th>\n",
       "      <td>0</td>\n",
       "      <td>0</td>\n",
       "      <td>0</td>\n",
       "      <td>0</td>\n",
       "      <td>0</td>\n",
       "      <td>0</td>\n",
       "      <td>0</td>\n",
       "      <td>0</td>\n",
       "      <td>0</td>\n",
       "      <td>0</td>\n",
       "      <td>...</td>\n",
       "      <td>0</td>\n",
       "      <td>0</td>\n",
       "      <td>0</td>\n",
       "      <td>0</td>\n",
       "      <td>0</td>\n",
       "      <td>0</td>\n",
       "      <td>0</td>\n",
       "      <td>0</td>\n",
       "      <td>0</td>\n",
       "      <td>0</td>\n",
       "    </tr>\n",
       "  </tbody>\n",
       "</table>\n",
       "<p>5 rows × 714 columns</p>\n",
       "</div>"
      ],
      "text/plain": [
       "article_id  0     2     4     8     9     12    14    15    16    18    ...  \\\n",
       "user_id                                                                 ...   \n",
       "1              0     0     0     0     0     0     0     0     0     0  ...   \n",
       "2              0     0     0     0     0     0     0     0     0     0  ...   \n",
       "3              0     0     0     0     0     1     0     0     0     0  ...   \n",
       "4              0     0     0     0     0     0     0     0     0     0  ...   \n",
       "5              0     0     0     0     0     0     0     0     0     0  ...   \n",
       "\n",
       "article_id  1434  1435  1436  1437  1439  1440  1441  1442  1443  1444  \n",
       "user_id                                                                 \n",
       "1              0     0     1     0     1     0     0     0     0     0  \n",
       "2              0     0     0     0     0     0     0     0     0     0  \n",
       "3              0     0     1     0     0     0     0     0     0     0  \n",
       "4              0     0     0     0     0     0     0     0     0     0  \n",
       "5              0     0     0     0     0     0     0     0     0     0  \n",
       "\n",
       "[5 rows x 714 columns]"
      ]
     },
     "execution_count": 52,
     "metadata": {},
     "output_type": "execute_result"
    }
   ],
   "source": [
    "# quick look at the matrix\n",
    "user_item.head()"
   ]
  },
  {
   "cell_type": "markdown",
   "metadata": {},
   "source": [
    "`2.` In this situation, you can use Singular Value Decomposition from [scikit-learn](https://scikit-learn.org/stable/modules/generated/sklearn.decomposition.TruncatedSVD.html) on the user-item matrix.  Use the cell to perform SVD."
   ]
  },
  {
   "cell_type": "code",
   "execution_count": 53,
   "metadata": {},
   "outputs": [
    {
     "name": "stdout",
     "output_type": "stream",
     "text": [
      "u (5149, 714)\n",
      "s (714,)\n",
      "vt (714, 714)\n"
     ]
    }
   ],
   "source": [
    "from sklearn.decomposition import TruncatedSVD\n",
    "from sklearn.metrics import precision_score, recall_score, accuracy_score\n",
    "# Using the full number of components which equals the number of columns\n",
    "svd = TruncatedSVD(n_components=len(user_item.columns),\n",
    "                   n_iter=5, random_state=42)\n",
    "\n",
    "u = svd.fit_transform(user_item)\n",
    "v = svd.components_\n",
    "s = svd.singular_values_\n",
    "print('u', u.shape)\n",
    "print('s', s.shape)\n",
    "print('vt', v.shape)"
   ]
  },
  {
   "cell_type": "markdown",
   "metadata": {},
   "source": [
    "`3.` Now for the tricky part, how do we choose the number of latent features to use?  Running the below cell, you can see that as the number of latent features increases, we obtain better metrics when making predictions for the 1 and 0 values in the user-item matrix.  Run the cell below to get an idea of how our metrics improve as we increase the number of latent features."
   ]
  },
  {
   "cell_type": "code",
   "execution_count": 54,
   "metadata": {},
   "outputs": [
    {
     "data": {
      "text/plain": [
       "Text(0.5, 1.0, 'Metrics vs. Number of Latent Features')"
      ]
     },
     "execution_count": 54,
     "metadata": {},
     "output_type": "execute_result"
    },
    {
     "data": {
      "image/png": "[encoded data removed]",
      "text/plain": [
       "<Figure size 640x480 with 1 Axes>"
      ]
     },
     "metadata": {},
     "output_type": "display_data"
    }
   ],
   "source": [
    "num_latent_feats = np.arange(10, 700+10, 20)\n",
    "metric_scores = []\n",
    "\n",
    "for k in num_latent_feats:\n",
    "    # restructure with k latent features\n",
    "    u_new, vt_new = u[:, :k], v[:k, :]\n",
    "\n",
    "    # take dot product\n",
    "    user_item_est = abs(np.around(np.dot(u_new, vt_new))).astype(int)\n",
    "    # make sure the values are between 0 and 1\n",
    "    user_item_est = np.clip(user_item_est, 0, 1)\n",
    "\n",
    "    # total errors and keep track of them\n",
    "    acc = accuracy_score(user_item.values.flatten(), user_item_est.flatten())\n",
    "    precision = precision_score(\n",
    "        user_item.values.flatten(), user_item_est.flatten())\n",
    "    recall = recall_score(user_item.values.flatten(), user_item_est.flatten())\n",
    "    metric_scores.append([acc, precision, recall])\n",
    "\n",
    "\n",
    "plt.plot(num_latent_feats, metric_scores, label=[\n",
    "         'Accuracy', 'Precision', 'Recall'])\n",
    "plt.legend()\n",
    "plt.xlabel('Number of Latent Features')\n",
    "plt.title('Metrics vs. Number of Latent Features')"
   ]
  },
  {
   "cell_type": "markdown",
   "metadata": {},
   "source": [
    "`4.` From the above, we can't really be sure how many features to use, because simply having a better way to predict the 1's and 0's of the matrix doesn't exactly give us an indication of if we are able to make good recommendations. Given the plot above, what would you pick for the number of latent features and why?"
   ]
  },
  {
   "cell_type": "markdown",
   "metadata": {},
   "source": [
    "## <u> Answer: Choosing the Optimal Number of Latent Features</u>\n",
    "\n",
    "Looking at the plot of accuracy, precision, and recall against the number of latent features, a range of **150–200 latent features** seems most appropriate.  \n",
    "\n",
    "### Trade-offs to Consider\n",
    "\n",
    "**1. Performance Plateau**  \n",
    "- Metrics improve rapidly when moving from 10 up to about 100–150 features  \n",
    "- After 150–200 features the gains become marginal  \n",
    "- This shows a clear pattern of diminishing returns  \n",
    "\n",
    "**2. Risk of Overfitting**  \n",
    "- Using very high numbers of features (400–700) can slightly improve reconstruction accuracy, but this often signals overfitting  \n",
    "- The purpose is not exact reconstruction of the user–item matrix, but uncovering latent patterns that transfer well to new recommendations  \n",
    "\n",
    "**3. Efficiency**  \n",
    "- More features mean more cost in training and prediction  \n",
    "- Staying around 150–200 provides a good balance between expressiveness and runtime  \n",
    "\n",
    "**4. Generalization and Interpretability**  \n",
    "- A moderate number of features is more likely to reflect real user preferences and item traits  \n",
    "- Too many features risk fitting noise instead of meaningful structure  \n",
    "- The 150–200 range allows complex patterns to be learned without the model becoming overly specific to the training data  \n",
    "\n",
    "### Why Reconstruction Accuracy Is Not the Goal\n",
    "\n",
    "A perfect fit to the 1s and 0s of the matrix does not guarantee useful recommendations. What matters is:  \n",
    "\n",
    "- Capturing user preferences and item similarities in a meaningful way  \n",
    "- Generalizing to new, unseen user–item interactions  \n",
    "- Staying robust in sparse settings  \n",
    "\n",
    "### Practical Recommendation\n",
    "\n",
    "- **200 latent features** can be treated as an upper bound that still balances complexity and performance  \n",
    "- This number provides enough flexibility to capture diverse tastes and item characteristics without excessive computation or overfitting  \n",
    "\n",
    "In summary, **150–200 latent features** is the optimal range, with **200** being a safe and effective choice.\n"
   ]
  },
  {
   "cell_type": "markdown",
   "metadata": {},
   "source": [
    "`5.` Using 200 latent features and the values of U, S, and V transpose we calculated above, create an article id recommendation function that finds similar article ids to the one provide.\n",
    "\n",
    "Create a list of 10 recommendations that are similar to article with id 4.  The function should provide these recommendations by finding articles that have the most similar latent features as the provided article."
   ]
  },
  {
   "cell_type": "code",
   "execution_count": 55,
   "metadata": {},
   "outputs": [],
   "source": [
    "def get_svd_similar_article_ids(article_id, vt, user_item=user_item, include_similarity=False):\n",
    "    \"\"\"\n",
    "    INPUT:\n",
    "    article_id - (int) an article id\n",
    "    vt - (numpy array) vt matrix from SVD\n",
    "    user_item - (pandas dataframe) matrix of users by articles: \n",
    "                1's when a user has interacted with an article, 0 otherwise\n",
    "    include_similarity - (bool) whether to include the similarity in the output\n",
    "\n",
    "    OUTPUT:\n",
    "    article_ids - (list) a list of article ids that are in the same title cluster\n",
    "\n",
    "    Description:\n",
    "    Returns a list of the article ids similar using SVD factorization\n",
    "    \"\"\"\n",
    "    # Find the index of the article_id\n",
    "    article_idx = user_item.columns.get_loc(article_id)\n",
    "\n",
    "    # Find the cosine similarity of all articles\n",
    "    # Hint: vt should be transposed before passing to cosine_similarity to get a 714 x 714 matrix\n",
    "    cos_sim = cosine_similarity(vt.T)\n",
    "\n",
    "    # Get similarities only for the cos_sim of the article_idx\n",
    "    article_similarities = cos_sim[article_idx]\n",
    "\n",
    "    # Sort and return the articles, don't include the own article\n",
    "    # Create pairs of (article_id, similarity) and sort by similarity descending\n",
    "    article_sim_pairs = list(zip(user_item.columns, article_similarities))\n",
    "    # Remove the input article itself\n",
    "    article_sim_pairs = [\n",
    "        pair for pair in article_sim_pairs if pair[0] != article_id]\n",
    "    # Sort by similarity (descending)\n",
    "    article_sim_pairs.sort(key=lambda x: x[1], reverse=True)\n",
    "\n",
    "    if include_similarity:\n",
    "        # return a list of lists with [[similar_article_id, similarity], ...]\n",
    "        return [[int(aid), float(sim)] for aid, sim in article_sim_pairs]\n",
    "\n",
    "    most_similar_items = [int(aid) for aid, sim in article_sim_pairs]\n",
    "    return most_similar_items"
   ]
  },
  {
   "cell_type": "code",
   "execution_count": 56,
   "metadata": {},
   "outputs": [],
   "source": [
    "# Create a vt_new matrix with 200 latent features\n",
    "k = 200\n",
    "vt_new = v[:k, :]"
   ]
  },
  {
   "cell_type": "code",
   "execution_count": 57,
   "metadata": {},
   "outputs": [
    {
     "name": "stdout",
     "output_type": "stream",
     "text": [
      "Current article: analyze ny restaurant data using spark in dsx\n"
     ]
    }
   ],
   "source": [
    "# What is the article name for article_id 4?\n",
    "print(\"Current article:\", get_article_names([4], df=df)[0])"
   ]
  },
  {
   "cell_type": "code",
   "execution_count": 58,
   "metadata": {},
   "outputs": [
    {
     "data": {
      "text/plain": [
       "[1199, 1068, 486, 1202, 176, 1120, 244, 793, 58, 132]"
      ]
     },
     "execution_count": 58,
     "metadata": {},
     "output_type": "execute_result"
    }
   ],
   "source": [
    "# What are the top 10 most similar articles to article_id 4?\n",
    "rec_articles = get_svd_similar_article_ids(4, vt_new, user_item=user_item)[:10]\n",
    "rec_articles"
   ]
  },
  {
   "cell_type": "code",
   "execution_count": null,
   "metadata": {},
   "outputs": [],
   "source": [
    "# What are the top 10 most similar articles to article_id 4?\n",
    "get_article_names(rec_articles, df=df)"
   ]
  },
  {
   "cell_type": "code",
   "execution_count": 59,
   "metadata": {},
   "outputs": [
    {
     "name": "stdout",
     "output_type": "stream",
     "text": [
      "That's right!  Great job!\n"
     ]
    }
   ],
   "source": [
    "assert set(rec_articles) == {1199, 1068, 486, 1202, 176, 1120, 244, 793, 58,\n",
    "                             132}, \"Oops! Your the get_svd_similar_article_ids function doesn't work quite how we expect.\"\n",
    "print(\"That's right!  Great job!\")"
   ]
  },
  {
   "cell_type": "markdown",
   "metadata": {
    "collapsed": true
   },
   "source": [
    "`6.` Use the cell below to comment on the results you found in the previous question. Given the circumstances of your results, discuss what you might do to determine if the recommendations you make above are an improvement to how users currently find articles, either by Sections 2, 3, or 4? Add any tradeoffs between each of the methods, and how you could leverage each type for different situations including new users with no history, recently new users with little history, and users with a lot of history. "
   ]
  },
  {
   "cell_type": "markdown",
   "metadata": {},
   "source": [
    "## <u>Analysis of Recommendation Results and Method Comparison</u>\n",
    "\n",
    "### SVD-Based Matrix Factorization Results\n",
    "\n",
    "The SVD-based recommendations for article ID 4 indicate potential for identifying articles with similar latent feature patterns. These results are driven by user-item interaction structures rather than explicit content similarity, which allows the model to uncover relationships that may not be obvious from article titles alone.\n",
    "\n",
    "### Evaluating Recommendation Quality\n",
    "\n",
    "To assess whether these recommendations improve on existing methods, we can rely on three main approaches:\n",
    "\n",
    "#### 1. **Offline Evaluation Metrics**\n",
    "- **Precision@K and Recall@K**: Assess how many recommended articles align with actual user interactions  \n",
    "- **Mean Average Precision (MAP)**: Capture ranking quality across users  \n",
    "- **Coverage**: Ensure recommendations are not concentrated on only the most popular articles  \n",
    "- **Diversity**: Check that recommended articles differ from one another  \n",
    "- **Novelty**: Identify whether users are exposed to articles they might not otherwise encounter  \n",
    "\n",
    "#### 2. **A/B Testing**\n",
    "- Split users into groups and compare recommendation methods  \n",
    "- Track click-through rates, reading time, and reported satisfaction  \n",
    "- Measure long-term outcomes such as engagement and retention  \n",
    "\n",
    "#### 3. **Cross-Validation**\n",
    "- Use temporal splits, training on older data and testing on newer interactions  \n",
    "- Apply leave-one-out validation for users with sparse histories  \n",
    "\n",
    "### Comparison of Recommendation Methods\n",
    "This provides a broad comparison of the techniques employed but in no way is meant to be exhaustive.\n",
    "\n",
    "| Method | Strengths | Weaknesses | Best Use Case |\n",
    "|--------|-----------|------------|---------------|\n",
    "| **Rank-Based (Section 2)** | • Simple and efficient<br>• Always produces output<br>• Good starting baseline<br>• No cold start issues | • No personalization<br>• Popularity bias<br>• Limited discovery potential | **Completely new users with no history** |\n",
    "| **User-User Collaborative (Section 3)** | • Personalized<br>• Captures user preferences<br>• Supports discovery of new content | • Struggles with cold start<br>• Sensitive to sparse data<br>• Can be computationally heavy<br>• Still subject to popularity bias | **Users with moderate to rich interaction history** |\n",
    "| **Content-Based (Section 4)** | • No cold start for items<br>• Transparent recommendations<br>• Works with limited user data | • Constrained by available content features<br>• Risk of over-specialization<br>• Requires strong content representation | **New users with some early interactions, or items with detailed metadata** |\n",
    "| **Matrix Factorization (Section 5)** | • Effective with sparse data<br>• Captures hidden structure<br>• Scalable<br>• Strong overall performance | • Cold start limitations<br>• Harder to interpret<br>• Requires careful parameter tuning | **Established users with interaction history, large-scale systems** |\n",
    "\n",
    "### Strategic Implementation by User Type\n",
    "\n",
    "#### **New Users (No History)**\n",
    "1. **Primary**: Rank-based recommendations of popular content  \n",
    "2. **Secondary**: Content-based if initial preferences are provided  \n",
    "3. **Strategy**: Focus on quick onboarding through popular articles, then introduce personalization  \n",
    "\n",
    "#### **Recently New Users (1–5 Interactions)**\n",
    "1. **Primary**: Content-based recommendations from early interactions  \n",
    "2. **Secondary**: Rank-based to maintain diversity  \n",
    "3. **Hybrid**: Blend content similarity with popularity scores  \n",
    "4. **Strategy**: Begin building a user profile while keeping engagement high  \n",
    "\n",
    "#### **Active Users (6+ Interactions)**\n",
    "1. **Primary**: Matrix factorization for deeper pattern recognition  \n",
    "2. **Secondary**: User-user collaborative filtering to capture social discovery effects  \n",
    "3. **Tertiary**: Content-based to improve diversity and transparency  \n",
    "4. **Strategy**: Deliver highly personalized recommendations while mixing in popular content for novelty  \n",
    "\n",
    "### Hybrid Recommendation Strategy\n",
    "\n",
    "The most practical approach is a hybrid model that adapts to user history:\n",
    "\n",
    "```python\n",
    "def hybrid_recommendations(user_id, user_interaction_count):\n",
    "    if user_interaction_count == 0:\n",
    "        # New user\n",
    "        return get_top_article_ids(10)\n",
    "    elif user_interaction_count <= 5:\n",
    "        # Recently new user\n",
    "        content_recs = get_content_recommendations_for_user(user_id, 7)\n",
    "        popular_recs = get_top_article_ids(3)\n",
    "        return combine_recommendations(content_recs, popular_recs)\n",
    "    else:\n",
    "        # Active user\n",
    "        svd_recs = get_svd_user_recommendations(user_id, 6)\n",
    "        collab_recs = user_user_recs(user_id, 3)\n",
    "        content_recs = get_content_recommendations_for_user(user_id, 1)\n",
    "        return combine_recommendations(svd_recs, collab_recs, content_recs)\n"
   ]
  },
  {
   "cell_type": "code",
   "execution_count": null,
   "metadata": {
    "collapsed": true
   },
   "outputs": [],
   "source": [
    "from subprocess import call\n",
    "call(['python', '-m', 'nbconvert', '--to',\n",
    "     'html', 'Recommendations_with_IBM.ipynb'])"
   ]
  }
 ],
 "metadata": {
  "kernelspec": {
   "display_name": "base",
   "language": "python",
   "name": "python3"
  },
  "language_info": {
   "codemirror_mode": {
    "name": "ipython",
    "version": 3
   },
   "file_extension": ".py",
   "mimetype": "text/x-python",
   "name": "python",
   "nbconvert_exporter": "python",
   "pygments_lexer": "ipython3",
   "version": "3.12.8"
  }
 },
 "nbformat": 4,
 "nbformat_minor": 2
}
